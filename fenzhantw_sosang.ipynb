{
  "nbformat": 4,
  "nbformat_minor": 0,
  "metadata": {
    "colab": {
      "name": "아놔소상공인.ipynb",
      "provenance": [],
      "collapsed_sections": [],
      "include_colab_link": true
    },
    "kernelspec": {
      "display_name": "Python 3",
      "name": "python3"
    },
    "language_info": {
      "name": "python"
    }
  },
  "cells": [
    {
      "cell_type": "markdown",
      "metadata": {
        "id": "view-in-github",
        "colab_type": "text"
      },
      "source": [
        "<a href=\"https://colab.research.google.com/github/MINSUKIM-BA/sosang/blob/master/fenzhantw_sosang.ipynb\" target=\"_parent\"><img src=\"https://colab.research.google.com/assets/colab-badge.svg\" alt=\"Open In Colab\"/></a>"
      ]
    },
    {
      "cell_type": "code",
      "metadata": {
        "colab": {
          "background_save": true,
          "base_uri": "https://localhost:8080/"
        },
        "id": "OHdrweiV7Qpu",
        "outputId": "50b885de-a042-446a-898a-6e579b8ac35f"
      },
      "source": [
        "!sudo apt-get install -y fonts-nanum\n",
        "!sudo fc-cache -fv\n",
        "!rm ~/.cache/matplotlib -rf"
      ],
      "execution_count": null,
      "outputs": [
        {
          "output_type": "stream",
          "text": [
            "Reading package lists... Done\n",
            "Building dependency tree       \n",
            "Reading state information... Done\n",
            "The following NEW packages will be installed:\n",
            "  fonts-nanum\n",
            "0 upgraded, 1 newly installed, 0 to remove and 31 not upgraded.\n",
            "Need to get 9,604 kB of archives.\n",
            "After this operation, 29.5 MB of additional disk space will be used.\n",
            "Get:1 http://archive.ubuntu.com/ubuntu bionic/universe amd64 fonts-nanum all 20170925-1 [9,604 kB]\n",
            "Fetched 9,604 kB in 2s (5,554 kB/s)\n",
            "debconf: unable to initialize frontend: Dialog\n",
            "debconf: (No usable dialog-like program is installed, so the dialog based frontend cannot be used. at /usr/share/perl5/Debconf/FrontEnd/Dialog.pm line 76, <> line 1.)\n",
            "debconf: falling back to frontend: Readline\n",
            "debconf: unable to initialize frontend: Readline\n",
            "debconf: (This frontend requires a controlling tty.)\n",
            "debconf: falling back to frontend: Teletype\n",
            "dpkg-preconfigure: unable to re-open stdin: \n",
            "Selecting previously unselected package fonts-nanum.\n",
            "(Reading database ... 160983 files and directories currently installed.)\n",
            "Preparing to unpack .../fonts-nanum_20170925-1_all.deb ...\n",
            "Unpacking fonts-nanum (20170925-1) ...\n",
            "Setting up fonts-nanum (20170925-1) ...\n",
            "Processing triggers for fontconfig (2.12.6-0ubuntu2) ...\n",
            "/usr/share/fonts: caching, new cache contents: 0 fonts, 1 dirs\n",
            "/usr/share/fonts/truetype: caching, new cache contents: 0 fonts, 3 dirs\n",
            "/usr/share/fonts/truetype/humor-sans: caching, new cache contents: 1 fonts, 0 dirs\n",
            "/usr/share/fonts/truetype/liberation: caching, new cache contents: 16 fonts, 0 dirs\n",
            "/usr/share/fonts/truetype/nanum: caching, new cache contents: 10 fonts, 0 dirs\n",
            "/usr/local/share/fonts: caching, new cache contents: 0 fonts, 0 dirs\n",
            "/root/.local/share/fonts: skipping, no such directory\n",
            "/root/.fonts: skipping, no such directory\n",
            "/var/cache/fontconfig: cleaning cache directory\n",
            "/root/.cache/fontconfig: not cleaning non-existent cache directory\n",
            "/root/.fontconfig: not cleaning non-existent cache directory\n",
            "fc-cache: succeeded\n"
          ],
          "name": "stdout"
        }
      ]
    },
    {
      "cell_type": "code",
      "metadata": {
        "colab": {
          "background_save": true
        },
        "id": "6hUFHyWDZqtt"
      },
      "source": [
        "import pandas as pd\n",
        "import numpy as np\n",
        "import matplotlib.pyplot as plt\n",
        "plt.rc('font', family='NanumBarunGothic') \n",
        "import seaborn as sns\n",
        "\n",
        "import warnings\n",
        "warnings.filterwarnings(\"ignore\") "
      ],
      "execution_count": null,
      "outputs": []
    },
    {
      "cell_type": "code",
      "metadata": {
        "colab": {
          "background_save": true,
          "base_uri": "https://localhost:8080/"
        },
        "id": "Hr9J1aSW17tT",
        "outputId": "58b69624-21fc-443b-c8e5-9e585f245959"
      },
      "source": [
        "from google.colab import drive\n",
        "drive.mount('/content/drive')"
      ],
      "execution_count": null,
      "outputs": [
        {
          "output_type": "stream",
          "text": [
            "Drive already mounted at /content/drive; to attempt to forcibly remount, call drive.mount(\"/content/drive\", force_remount=True).\n"
          ],
          "name": "stdout"
        }
      ]
    },
    {
      "cell_type": "code",
      "metadata": {
        "id": "JFNy59udcO1-"
      },
      "source": [
        "df = pd.read_csv('/content/drive/MyDrive/Colab Notebooks/합본.csv')"
      ],
      "execution_count": null,
      "outputs": []
    },
    {
      "cell_type": "code",
      "metadata": {
        "colab": {
          "base_uri": "https://localhost:8080/",
          "height": 1000
        },
        "id": "9FBLX-96cO8K",
        "outputId": "6938f30d-58b5-44ab-cd37-7777d8ca878a"
      },
      "source": [
        "pd.set_option('display.max_row',20)\n",
        "pd.set_option('display.max_columns',20)\n",
        "df"
      ],
      "execution_count": null,
      "outputs": [
        {
          "output_type": "execute_result",
          "data": {
            "text/html": [
              "<div>\n",
              "<style scoped>\n",
              "    .dataframe tbody tr th:only-of-type {\n",
              "        vertical-align: middle;\n",
              "    }\n",
              "\n",
              "    .dataframe tbody tr th {\n",
              "        vertical-align: top;\n",
              "    }\n",
              "\n",
              "    .dataframe thead th {\n",
              "        text-align: right;\n",
              "    }\n",
              "</style>\n",
              "<table border=\"1\" class=\"dataframe\">\n",
              "  <thead>\n",
              "    <tr style=\"text-align: right;\">\n",
              "      <th></th>\n",
              "      <th>번호</th>\n",
              "      <th>사진파일\\n 이름</th>\n",
              "      <th>점포명</th>\n",
              "      <th>음식 카테고리</th>\n",
              "      <th>함께 먹은 사람\\n (연인,친구, 가족, 혼자)</th>\n",
              "      <th>주문날짜</th>\n",
              "      <th>주문시간</th>\n",
              "      <th>결제방법</th>\n",
              "      <th>주문 금액\\n (총 결제금액x)</th>\n",
              "      <th>배달요금</th>\n",
              "      <th>...</th>\n",
              "      <th>메뉴2</th>\n",
              "      <th>옵션2</th>\n",
              "      <th>메뉴3</th>\n",
              "      <th>옵션3</th>\n",
              "      <th>메뉴4</th>\n",
              "      <th>옵션4</th>\n",
              "      <th>메뉴5</th>\n",
              "      <th>옵션5</th>\n",
              "      <th>메뉴6</th>\n",
              "      <th>옵션6</th>\n",
              "    </tr>\n",
              "  </thead>\n",
              "  <tbody>\n",
              "    <tr>\n",
              "      <th>0</th>\n",
              "      <td>1</td>\n",
              "      <td>째요니-3</td>\n",
              "      <td>BBQ치킨 부산대학교점</td>\n",
              "      <td>치킨피자</td>\n",
              "      <td>가족</td>\n",
              "      <td>2020.01.18</td>\n",
              "      <td>16:30</td>\n",
              "      <td>카카오페이</td>\n",
              "      <td>24500</td>\n",
              "      <td>포장</td>\n",
              "      <td>...</td>\n",
              "      <td>NaN</td>\n",
              "      <td>NaN</td>\n",
              "      <td>NaN</td>\n",
              "      <td>NaN</td>\n",
              "      <td>NaN</td>\n",
              "      <td>NaN</td>\n",
              "      <td>NaN</td>\n",
              "      <td>NaN</td>\n",
              "      <td>NaN</td>\n",
              "      <td>NaN</td>\n",
              "    </tr>\n",
              "    <tr>\n",
              "      <th>1</th>\n",
              "      <td>2</td>\n",
              "      <td>이형진-1</td>\n",
              "      <td>BBQ치킨 부산대학교점</td>\n",
              "      <td>치킨피자</td>\n",
              "      <td>혼자</td>\n",
              "      <td>2020.01.21</td>\n",
              "      <td>12:51</td>\n",
              "      <td>카드결제</td>\n",
              "      <td>18000</td>\n",
              "      <td>포장</td>\n",
              "      <td>...</td>\n",
              "      <td>NaN</td>\n",
              "      <td>NaN</td>\n",
              "      <td>NaN</td>\n",
              "      <td>NaN</td>\n",
              "      <td>NaN</td>\n",
              "      <td>NaN</td>\n",
              "      <td>NaN</td>\n",
              "      <td>NaN</td>\n",
              "      <td>NaN</td>\n",
              "      <td>NaN</td>\n",
              "    </tr>\n",
              "    <tr>\n",
              "      <th>2</th>\n",
              "      <td>3</td>\n",
              "      <td>최선민-13</td>\n",
              "      <td>BBQ치킨 부산대학교점</td>\n",
              "      <td>치킨피자</td>\n",
              "      <td>친구</td>\n",
              "      <td>2020.01.22</td>\n",
              "      <td>17:58</td>\n",
              "      <td>카드결제</td>\n",
              "      <td>20000</td>\n",
              "      <td>포장</td>\n",
              "      <td>...</td>\n",
              "      <td>NaN</td>\n",
              "      <td>NaN</td>\n",
              "      <td>NaN</td>\n",
              "      <td>NaN</td>\n",
              "      <td>NaN</td>\n",
              "      <td>NaN</td>\n",
              "      <td>NaN</td>\n",
              "      <td>NaN</td>\n",
              "      <td>NaN</td>\n",
              "      <td>NaN</td>\n",
              "    </tr>\n",
              "    <tr>\n",
              "      <th>3</th>\n",
              "      <td>4</td>\n",
              "      <td>조예린 - 2</td>\n",
              "      <td>봉구스밥버거 부산대점</td>\n",
              "      <td>기타</td>\n",
              "      <td>혼자</td>\n",
              "      <td>2020.01.28</td>\n",
              "      <td>11:39</td>\n",
              "      <td>네이버페이</td>\n",
              "      <td>5000</td>\n",
              "      <td>포장</td>\n",
              "      <td>...</td>\n",
              "      <td>봉구스밥버거 1개</td>\n",
              "      <td>NaN</td>\n",
              "      <td>NaN</td>\n",
              "      <td>NaN</td>\n",
              "      <td>NaN</td>\n",
              "      <td>NaN</td>\n",
              "      <td>NaN</td>\n",
              "      <td>NaN</td>\n",
              "      <td>NaN</td>\n",
              "      <td>NaN</td>\n",
              "    </tr>\n",
              "    <tr>\n",
              "      <th>4</th>\n",
              "      <td>5</td>\n",
              "      <td>송희-1</td>\n",
              "      <td>떡볶이스타 부산대점</td>\n",
              "      <td>분식</td>\n",
              "      <td>혼자</td>\n",
              "      <td>2020.02.19</td>\n",
              "      <td>1:05</td>\n",
              "      <td>NaN</td>\n",
              "      <td>8000</td>\n",
              "      <td>포장</td>\n",
              "      <td>...</td>\n",
              "      <td>날치알주먹밥</td>\n",
              "      <td>NaN</td>\n",
              "      <td>NaN</td>\n",
              "      <td>NaN</td>\n",
              "      <td>NaN</td>\n",
              "      <td>NaN</td>\n",
              "      <td>NaN</td>\n",
              "      <td>NaN</td>\n",
              "      <td>NaN</td>\n",
              "      <td>NaN</td>\n",
              "    </tr>\n",
              "    <tr>\n",
              "      <th>...</th>\n",
              "      <td>...</td>\n",
              "      <td>...</td>\n",
              "      <td>...</td>\n",
              "      <td>...</td>\n",
              "      <td>...</td>\n",
              "      <td>...</td>\n",
              "      <td>...</td>\n",
              "      <td>...</td>\n",
              "      <td>...</td>\n",
              "      <td>...</td>\n",
              "      <td>...</td>\n",
              "      <td>...</td>\n",
              "      <td>...</td>\n",
              "      <td>...</td>\n",
              "      <td>...</td>\n",
              "      <td>...</td>\n",
              "      <td>...</td>\n",
              "      <td>...</td>\n",
              "      <td>...</td>\n",
              "      <td>...</td>\n",
              "      <td>...</td>\n",
              "    </tr>\n",
              "    <tr>\n",
              "      <th>1134</th>\n",
              "      <td>1086</td>\n",
              "      <td>최가원 - 7</td>\n",
              "      <td>컴포즈커피 부산대북문점</td>\n",
              "      <td>카페디저트</td>\n",
              "      <td>친구</td>\n",
              "      <td>2020.06.29</td>\n",
              "      <td>23:27</td>\n",
              "      <td>NaN</td>\n",
              "      <td>7500</td>\n",
              "      <td>2500</td>\n",
              "      <td>...</td>\n",
              "      <td>아메리카노 1개</td>\n",
              "      <td>NaN</td>\n",
              "      <td>사과생크림 와플 1개</td>\n",
              "      <td>NaN</td>\n",
              "      <td>NaN</td>\n",
              "      <td>NaN</td>\n",
              "      <td>NaN</td>\n",
              "      <td>NaN</td>\n",
              "      <td>NaN</td>\n",
              "      <td>NaN</td>\n",
              "    </tr>\n",
              "    <tr>\n",
              "      <th>1135</th>\n",
              "      <td>1086</td>\n",
              "      <td>최가원 - 1</td>\n",
              "      <td>피자뿌</td>\n",
              "      <td>치킨피자</td>\n",
              "      <td>연인</td>\n",
              "      <td>2020.01.05</td>\n",
              "      <td>22:33</td>\n",
              "      <td>카드결제</td>\n",
              "      <td>12900</td>\n",
              "      <td>0</td>\n",
              "      <td>...</td>\n",
              "      <td>NaN</td>\n",
              "      <td>NaN</td>\n",
              "      <td>NaN</td>\n",
              "      <td>NaN</td>\n",
              "      <td>NaN</td>\n",
              "      <td>NaN</td>\n",
              "      <td>NaN</td>\n",
              "      <td>NaN</td>\n",
              "      <td>NaN</td>\n",
              "      <td>NaN</td>\n",
              "    </tr>\n",
              "    <tr>\n",
              "      <th>1136</th>\n",
              "      <td>1086</td>\n",
              "      <td>김도연 - 2</td>\n",
              "      <td>OK 도매횟집</td>\n",
              "      <td>일식</td>\n",
              "      <td>혼자</td>\n",
              "      <td>2020.08.08</td>\n",
              "      <td>15:16</td>\n",
              "      <td>휴대폰결제</td>\n",
              "      <td>25000</td>\n",
              "      <td>0</td>\n",
              "      <td>...</td>\n",
              "      <td>NaN</td>\n",
              "      <td>NaN</td>\n",
              "      <td>NaN</td>\n",
              "      <td>NaN</td>\n",
              "      <td>NaN</td>\n",
              "      <td>NaN</td>\n",
              "      <td>NaN</td>\n",
              "      <td>NaN</td>\n",
              "      <td>NaN</td>\n",
              "      <td>NaN</td>\n",
              "    </tr>\n",
              "    <tr>\n",
              "      <th>1137</th>\n",
              "      <td>1138</td>\n",
              "      <td>유지환-1</td>\n",
              "      <td>BBQ치킨 장전점</td>\n",
              "      <td>치킨피자</td>\n",
              "      <td>친구</td>\n",
              "      <td>2020.01.17</td>\n",
              "      <td>23:22</td>\n",
              "      <td>카드결제</td>\n",
              "      <td>21000</td>\n",
              "      <td>0</td>\n",
              "      <td>...</td>\n",
              "      <td>NaN</td>\n",
              "      <td>NaN</td>\n",
              "      <td>NaN</td>\n",
              "      <td>NaN</td>\n",
              "      <td>NaN</td>\n",
              "      <td>NaN</td>\n",
              "      <td>NaN</td>\n",
              "      <td>NaN</td>\n",
              "      <td>NaN</td>\n",
              "      <td>NaN</td>\n",
              "    </tr>\n",
              "    <tr>\n",
              "      <th>1138</th>\n",
              "      <td>1139</td>\n",
              "      <td>유지환-4</td>\n",
              "      <td>KFC 부산구서DT점</td>\n",
              "      <td>치킨피자</td>\n",
              "      <td>친구</td>\n",
              "      <td>2020.05.10</td>\n",
              "      <td>17:54</td>\n",
              "      <td>배민페이</td>\n",
              "      <td>15100</td>\n",
              "      <td>0</td>\n",
              "      <td>...</td>\n",
              "      <td>양념치킨</td>\n",
              "      <td>3p</td>\n",
              "      <td>NaN</td>\n",
              "      <td>NaN</td>\n",
              "      <td>NaN</td>\n",
              "      <td>NaN</td>\n",
              "      <td>NaN</td>\n",
              "      <td>NaN</td>\n",
              "      <td>NaN</td>\n",
              "      <td>NaN</td>\n",
              "    </tr>\n",
              "  </tbody>\n",
              "</table>\n",
              "<p>1139 rows × 23 columns</p>\n",
              "</div>"
            ],
            "text/plain": [
              "        번호 사진파일\\n 이름           점포명 음식 카테고리 함께 먹은 사람\\n (연인,친구, 가족, 혼자)  \\\n",
              "0        1     째요니-3  BBQ치킨 부산대학교점    치킨피자                         가족   \n",
              "1        2     이형진-1  BBQ치킨 부산대학교점    치킨피자                         혼자   \n",
              "2        3    최선민-13  BBQ치킨 부산대학교점    치킨피자                         친구   \n",
              "3        4   조예린 - 2   봉구스밥버거 부산대점      기타                         혼자   \n",
              "4        5      송희-1    떡볶이스타 부산대점      분식                         혼자   \n",
              "...    ...       ...           ...     ...                        ...   \n",
              "1134  1086   최가원 - 7  컴포즈커피 부산대북문점   카페디저트                         친구   \n",
              "1135  1086   최가원 - 1           피자뿌    치킨피자                         연인   \n",
              "1136  1086   김도연 - 2       OK 도매횟집      일식                         혼자   \n",
              "1137  1138     유지환-1     BBQ치킨 장전점    치킨피자                         친구   \n",
              "1138  1139     유지환-4   KFC 부산구서DT점    치킨피자                         친구   \n",
              "\n",
              "            주문날짜   주문시간   결제방법 주문 금액\\n (총 결제금액x)  배달요금  ...        메뉴2  옵션2  \\\n",
              "0     2020.01.18  16:30  카카오페이             24500    포장  ...        NaN  NaN   \n",
              "1     2020.01.21  12:51   카드결제             18000    포장  ...        NaN  NaN   \n",
              "2     2020.01.22  17:58   카드결제             20000    포장  ...        NaN  NaN   \n",
              "3     2020.01.28  11:39  네이버페이              5000    포장  ...  봉구스밥버거 1개  NaN   \n",
              "4     2020.02.19   1:05    NaN              8000    포장  ...     날치알주먹밥  NaN   \n",
              "...          ...    ...    ...               ...   ...  ...        ...  ...   \n",
              "1134  2020.06.29  23:27    NaN              7500  2500  ...   아메리카노 1개  NaN   \n",
              "1135  2020.01.05  22:33   카드결제             12900     0  ...        NaN  NaN   \n",
              "1136  2020.08.08  15:16  휴대폰결제             25000     0  ...        NaN  NaN   \n",
              "1137  2020.01.17  23:22   카드결제             21000     0  ...        NaN  NaN   \n",
              "1138  2020.05.10  17:54   배민페이             15100     0  ...       양념치킨   3p   \n",
              "\n",
              "              메뉴3  옵션3  메뉴4  옵션4  메뉴5  옵션5  메뉴6  옵션6  \n",
              "0             NaN  NaN  NaN  NaN  NaN  NaN  NaN  NaN  \n",
              "1             NaN  NaN  NaN  NaN  NaN  NaN  NaN  NaN  \n",
              "2             NaN  NaN  NaN  NaN  NaN  NaN  NaN  NaN  \n",
              "3             NaN  NaN  NaN  NaN  NaN  NaN  NaN  NaN  \n",
              "4             NaN  NaN  NaN  NaN  NaN  NaN  NaN  NaN  \n",
              "...           ...  ...  ...  ...  ...  ...  ...  ...  \n",
              "1134  사과생크림 와플 1개  NaN  NaN  NaN  NaN  NaN  NaN  NaN  \n",
              "1135          NaN  NaN  NaN  NaN  NaN  NaN  NaN  NaN  \n",
              "1136          NaN  NaN  NaN  NaN  NaN  NaN  NaN  NaN  \n",
              "1137          NaN  NaN  NaN  NaN  NaN  NaN  NaN  NaN  \n",
              "1138          NaN  NaN  NaN  NaN  NaN  NaN  NaN  NaN  \n",
              "\n",
              "[1139 rows x 23 columns]"
            ]
          },
          "metadata": {
            "tags": []
          },
          "execution_count": 5
        }
      ]
    },
    {
      "cell_type": "code",
      "metadata": {
        "colab": {
          "base_uri": "https://localhost:8080/"
        },
        "id": "y_qtIC1fcO-b",
        "outputId": "73b49f90-70ba-4177-d004-23a51c942c03"
      },
      "source": [
        "df.info()"
      ],
      "execution_count": null,
      "outputs": [
        {
          "output_type": "stream",
          "text": [
            "<class 'pandas.core.frame.DataFrame'>\n",
            "RangeIndex: 1139 entries, 0 to 1138\n",
            "Data columns (total 23 columns):\n",
            " #   Column                     Non-Null Count  Dtype \n",
            "---  ------                     --------------  ----- \n",
            " 0   번호                         1139 non-null   int64 \n",
            " 1   사진파일\n",
            " 이름                   1139 non-null   object\n",
            " 2   점포명                        1139 non-null   object\n",
            " 3   음식 카테고리                    1139 non-null   object\n",
            " 4   함께 먹은 사람\n",
            " (연인,친구, 가족, 혼자)  1134 non-null   object\n",
            " 5   주문날짜                       1139 non-null   object\n",
            " 6   주문시간                       1139 non-null   object\n",
            " 7   결제방법                       847 non-null    object\n",
            " 8   주문 금액\n",
            " (총 결제금액x)           1136 non-null   object\n",
            " 9   배달요금                       1078 non-null   object\n",
            " 10  할인금액\n",
            " (쿠폰 등)               998 non-null    object\n",
            " 11  메뉴1                        1136 non-null   object\n",
            " 12  옵션1                        679 non-null    object\n",
            " 13  메뉴2                        384 non-null    object\n",
            " 14  옵션2                        122 non-null    object\n",
            " 15  메뉴3                        129 non-null    object\n",
            " 16  옵션3                        28 non-null     object\n",
            " 17  메뉴4                        29 non-null     object\n",
            " 18  옵션4                        5 non-null      object\n",
            " 19  메뉴5                        10 non-null     object\n",
            " 20  옵션5                        1 non-null      object\n",
            " 21  메뉴6                        3 non-null      object\n",
            " 22  옵션6                        1 non-null      object\n",
            "dtypes: int64(1), object(22)\n",
            "memory usage: 204.8+ KB\n"
          ],
          "name": "stdout"
        }
      ]
    },
    {
      "cell_type": "code",
      "metadata": {
        "colab": {
          "base_uri": "https://localhost:8080/",
          "height": 1000
        },
        "id": "S4CBrGoFdX3N",
        "outputId": "f2926f72-141c-4bc3-e75b-2345e5276a22"
      },
      "source": [
        "df_origin = df[:]\n",
        "df = df.drop(columns = ['사진파일\\n 이름','번호'])\n",
        "df"
      ],
      "execution_count": null,
      "outputs": [
        {
          "output_type": "execute_result",
          "data": {
            "text/html": [
              "<div>\n",
              "<style scoped>\n",
              "    .dataframe tbody tr th:only-of-type {\n",
              "        vertical-align: middle;\n",
              "    }\n",
              "\n",
              "    .dataframe tbody tr th {\n",
              "        vertical-align: top;\n",
              "    }\n",
              "\n",
              "    .dataframe thead th {\n",
              "        text-align: right;\n",
              "    }\n",
              "</style>\n",
              "<table border=\"1\" class=\"dataframe\">\n",
              "  <thead>\n",
              "    <tr style=\"text-align: right;\">\n",
              "      <th></th>\n",
              "      <th>점포명</th>\n",
              "      <th>음식 카테고리</th>\n",
              "      <th>함께 먹은 사람\\n (연인,친구, 가족, 혼자)</th>\n",
              "      <th>주문날짜</th>\n",
              "      <th>주문시간</th>\n",
              "      <th>결제방법</th>\n",
              "      <th>주문 금액\\n (총 결제금액x)</th>\n",
              "      <th>배달요금</th>\n",
              "      <th>할인금액\\n (쿠폰 등)</th>\n",
              "      <th>메뉴1</th>\n",
              "      <th>...</th>\n",
              "      <th>메뉴2</th>\n",
              "      <th>옵션2</th>\n",
              "      <th>메뉴3</th>\n",
              "      <th>옵션3</th>\n",
              "      <th>메뉴4</th>\n",
              "      <th>옵션4</th>\n",
              "      <th>메뉴5</th>\n",
              "      <th>옵션5</th>\n",
              "      <th>메뉴6</th>\n",
              "      <th>옵션6</th>\n",
              "    </tr>\n",
              "  </thead>\n",
              "  <tbody>\n",
              "    <tr>\n",
              "      <th>0</th>\n",
              "      <td>BBQ치킨 부산대학교점</td>\n",
              "      <td>치킨피자</td>\n",
              "      <td>가족</td>\n",
              "      <td>2020.01.18</td>\n",
              "      <td>16:30</td>\n",
              "      <td>카카오페이</td>\n",
              "      <td>24500</td>\n",
              "      <td>포장</td>\n",
              "      <td>6000</td>\n",
              "      <td>자메이카통다리구이</td>\n",
              "      <td>...</td>\n",
              "      <td>NaN</td>\n",
              "      <td>NaN</td>\n",
              "      <td>NaN</td>\n",
              "      <td>NaN</td>\n",
              "      <td>NaN</td>\n",
              "      <td>NaN</td>\n",
              "      <td>NaN</td>\n",
              "      <td>NaN</td>\n",
              "      <td>NaN</td>\n",
              "      <td>NaN</td>\n",
              "    </tr>\n",
              "    <tr>\n",
              "      <th>1</th>\n",
              "      <td>BBQ치킨 부산대학교점</td>\n",
              "      <td>치킨피자</td>\n",
              "      <td>혼자</td>\n",
              "      <td>2020.01.21</td>\n",
              "      <td>12:51</td>\n",
              "      <td>카드결제</td>\n",
              "      <td>18000</td>\n",
              "      <td>포장</td>\n",
              "      <td>6000</td>\n",
              "      <td>황금올리브</td>\n",
              "      <td>...</td>\n",
              "      <td>NaN</td>\n",
              "      <td>NaN</td>\n",
              "      <td>NaN</td>\n",
              "      <td>NaN</td>\n",
              "      <td>NaN</td>\n",
              "      <td>NaN</td>\n",
              "      <td>NaN</td>\n",
              "      <td>NaN</td>\n",
              "      <td>NaN</td>\n",
              "      <td>NaN</td>\n",
              "    </tr>\n",
              "    <tr>\n",
              "      <th>2</th>\n",
              "      <td>BBQ치킨 부산대학교점</td>\n",
              "      <td>치킨피자</td>\n",
              "      <td>친구</td>\n",
              "      <td>2020.01.22</td>\n",
              "      <td>17:58</td>\n",
              "      <td>카드결제</td>\n",
              "      <td>20000</td>\n",
              "      <td>포장</td>\n",
              "      <td>6000</td>\n",
              "      <td>황금올리브 닭다리 반반</td>\n",
              "      <td>...</td>\n",
              "      <td>NaN</td>\n",
              "      <td>NaN</td>\n",
              "      <td>NaN</td>\n",
              "      <td>NaN</td>\n",
              "      <td>NaN</td>\n",
              "      <td>NaN</td>\n",
              "      <td>NaN</td>\n",
              "      <td>NaN</td>\n",
              "      <td>NaN</td>\n",
              "      <td>NaN</td>\n",
              "    </tr>\n",
              "    <tr>\n",
              "      <th>3</th>\n",
              "      <td>봉구스밥버거 부산대점</td>\n",
              "      <td>기타</td>\n",
              "      <td>혼자</td>\n",
              "      <td>2020.01.28</td>\n",
              "      <td>11:39</td>\n",
              "      <td>네이버페이</td>\n",
              "      <td>5000</td>\n",
              "      <td>포장</td>\n",
              "      <td>3000</td>\n",
              "      <td>매운닭갈비밥버거 1개</td>\n",
              "      <td>...</td>\n",
              "      <td>봉구스밥버거 1개</td>\n",
              "      <td>NaN</td>\n",
              "      <td>NaN</td>\n",
              "      <td>NaN</td>\n",
              "      <td>NaN</td>\n",
              "      <td>NaN</td>\n",
              "      <td>NaN</td>\n",
              "      <td>NaN</td>\n",
              "      <td>NaN</td>\n",
              "      <td>NaN</td>\n",
              "    </tr>\n",
              "    <tr>\n",
              "      <th>4</th>\n",
              "      <td>떡볶이스타 부산대점</td>\n",
              "      <td>분식</td>\n",
              "      <td>혼자</td>\n",
              "      <td>2020.02.19</td>\n",
              "      <td>1:05</td>\n",
              "      <td>NaN</td>\n",
              "      <td>8000</td>\n",
              "      <td>포장</td>\n",
              "      <td>1000</td>\n",
              "      <td>인기튀김</td>\n",
              "      <td>...</td>\n",
              "      <td>날치알주먹밥</td>\n",
              "      <td>NaN</td>\n",
              "      <td>NaN</td>\n",
              "      <td>NaN</td>\n",
              "      <td>NaN</td>\n",
              "      <td>NaN</td>\n",
              "      <td>NaN</td>\n",
              "      <td>NaN</td>\n",
              "      <td>NaN</td>\n",
              "      <td>NaN</td>\n",
              "    </tr>\n",
              "    <tr>\n",
              "      <th>...</th>\n",
              "      <td>...</td>\n",
              "      <td>...</td>\n",
              "      <td>...</td>\n",
              "      <td>...</td>\n",
              "      <td>...</td>\n",
              "      <td>...</td>\n",
              "      <td>...</td>\n",
              "      <td>...</td>\n",
              "      <td>...</td>\n",
              "      <td>...</td>\n",
              "      <td>...</td>\n",
              "      <td>...</td>\n",
              "      <td>...</td>\n",
              "      <td>...</td>\n",
              "      <td>...</td>\n",
              "      <td>...</td>\n",
              "      <td>...</td>\n",
              "      <td>...</td>\n",
              "      <td>...</td>\n",
              "      <td>...</td>\n",
              "      <td>...</td>\n",
              "    </tr>\n",
              "    <tr>\n",
              "      <th>1134</th>\n",
              "      <td>컴포즈커피 부산대북문점</td>\n",
              "      <td>카페디저트</td>\n",
              "      <td>친구</td>\n",
              "      <td>2020.06.29</td>\n",
              "      <td>23:27</td>\n",
              "      <td>NaN</td>\n",
              "      <td>7500</td>\n",
              "      <td>2500</td>\n",
              "      <td>0</td>\n",
              "      <td>티톡스 히비스커스 1개</td>\n",
              "      <td>...</td>\n",
              "      <td>아메리카노 1개</td>\n",
              "      <td>NaN</td>\n",
              "      <td>사과생크림 와플 1개</td>\n",
              "      <td>NaN</td>\n",
              "      <td>NaN</td>\n",
              "      <td>NaN</td>\n",
              "      <td>NaN</td>\n",
              "      <td>NaN</td>\n",
              "      <td>NaN</td>\n",
              "      <td>NaN</td>\n",
              "    </tr>\n",
              "    <tr>\n",
              "      <th>1135</th>\n",
              "      <td>피자뿌</td>\n",
              "      <td>치킨피자</td>\n",
              "      <td>연인</td>\n",
              "      <td>2020.01.05</td>\n",
              "      <td>22:33</td>\n",
              "      <td>카드결제</td>\n",
              "      <td>12900</td>\n",
              "      <td>0</td>\n",
              "      <td>0</td>\n",
              "      <td>콤비네이션피자 1개</td>\n",
              "      <td>...</td>\n",
              "      <td>NaN</td>\n",
              "      <td>NaN</td>\n",
              "      <td>NaN</td>\n",
              "      <td>NaN</td>\n",
              "      <td>NaN</td>\n",
              "      <td>NaN</td>\n",
              "      <td>NaN</td>\n",
              "      <td>NaN</td>\n",
              "      <td>NaN</td>\n",
              "      <td>NaN</td>\n",
              "    </tr>\n",
              "    <tr>\n",
              "      <th>1136</th>\n",
              "      <td>OK 도매횟집</td>\n",
              "      <td>일식</td>\n",
              "      <td>혼자</td>\n",
              "      <td>2020.08.08</td>\n",
              "      <td>15:16</td>\n",
              "      <td>휴대폰결제</td>\n",
              "      <td>25000</td>\n",
              "      <td>0</td>\n",
              "      <td>0</td>\n",
              "      <td>OK 모듬회 1개</td>\n",
              "      <td>...</td>\n",
              "      <td>NaN</td>\n",
              "      <td>NaN</td>\n",
              "      <td>NaN</td>\n",
              "      <td>NaN</td>\n",
              "      <td>NaN</td>\n",
              "      <td>NaN</td>\n",
              "      <td>NaN</td>\n",
              "      <td>NaN</td>\n",
              "      <td>NaN</td>\n",
              "      <td>NaN</td>\n",
              "    </tr>\n",
              "    <tr>\n",
              "      <th>1137</th>\n",
              "      <td>BBQ치킨 장전점</td>\n",
              "      <td>치킨피자</td>\n",
              "      <td>친구</td>\n",
              "      <td>2020.01.17</td>\n",
              "      <td>23:22</td>\n",
              "      <td>카드결제</td>\n",
              "      <td>21000</td>\n",
              "      <td>0</td>\n",
              "      <td>3000</td>\n",
              "      <td>황금올리브 순살 반반치킨</td>\n",
              "      <td>...</td>\n",
              "      <td>NaN</td>\n",
              "      <td>NaN</td>\n",
              "      <td>NaN</td>\n",
              "      <td>NaN</td>\n",
              "      <td>NaN</td>\n",
              "      <td>NaN</td>\n",
              "      <td>NaN</td>\n",
              "      <td>NaN</td>\n",
              "      <td>NaN</td>\n",
              "      <td>NaN</td>\n",
              "    </tr>\n",
              "    <tr>\n",
              "      <th>1138</th>\n",
              "      <td>KFC 부산구서DT점</td>\n",
              "      <td>치킨피자</td>\n",
              "      <td>친구</td>\n",
              "      <td>2020.05.10</td>\n",
              "      <td>17:54</td>\n",
              "      <td>배민페이</td>\n",
              "      <td>15100</td>\n",
              "      <td>0</td>\n",
              "      <td>1000</td>\n",
              "      <td>더블치즈베이컨버거</td>\n",
              "      <td>...</td>\n",
              "      <td>양념치킨</td>\n",
              "      <td>3p</td>\n",
              "      <td>NaN</td>\n",
              "      <td>NaN</td>\n",
              "      <td>NaN</td>\n",
              "      <td>NaN</td>\n",
              "      <td>NaN</td>\n",
              "      <td>NaN</td>\n",
              "      <td>NaN</td>\n",
              "      <td>NaN</td>\n",
              "    </tr>\n",
              "  </tbody>\n",
              "</table>\n",
              "<p>1139 rows × 21 columns</p>\n",
              "</div>"
            ],
            "text/plain": [
              "               점포명 음식 카테고리 함께 먹은 사람\\n (연인,친구, 가족, 혼자)        주문날짜   주문시간  \\\n",
              "0     BBQ치킨 부산대학교점    치킨피자                         가족  2020.01.18  16:30   \n",
              "1     BBQ치킨 부산대학교점    치킨피자                         혼자  2020.01.21  12:51   \n",
              "2     BBQ치킨 부산대학교점    치킨피자                         친구  2020.01.22  17:58   \n",
              "3      봉구스밥버거 부산대점      기타                         혼자  2020.01.28  11:39   \n",
              "4       떡볶이스타 부산대점      분식                         혼자  2020.02.19   1:05   \n",
              "...            ...     ...                        ...         ...    ...   \n",
              "1134  컴포즈커피 부산대북문점   카페디저트                         친구  2020.06.29  23:27   \n",
              "1135           피자뿌    치킨피자                         연인  2020.01.05  22:33   \n",
              "1136       OK 도매횟집      일식                         혼자  2020.08.08  15:16   \n",
              "1137     BBQ치킨 장전점    치킨피자                         친구  2020.01.17  23:22   \n",
              "1138   KFC 부산구서DT점    치킨피자                         친구  2020.05.10  17:54   \n",
              "\n",
              "       결제방법 주문 금액\\n (총 결제금액x)  배달요금 할인금액\\n (쿠폰 등)            메뉴1  ...  \\\n",
              "0     카카오페이             24500    포장          6000      자메이카통다리구이  ...   \n",
              "1      카드결제             18000    포장          6000          황금올리브  ...   \n",
              "2      카드결제             20000    포장          6000   황금올리브 닭다리 반반  ...   \n",
              "3     네이버페이              5000    포장          3000    매운닭갈비밥버거 1개  ...   \n",
              "4       NaN              8000    포장          1000           인기튀김  ...   \n",
              "...     ...               ...   ...           ...            ...  ...   \n",
              "1134    NaN              7500  2500             0   티톡스 히비스커스 1개  ...   \n",
              "1135   카드결제             12900     0             0     콤비네이션피자 1개  ...   \n",
              "1136  휴대폰결제             25000     0             0      OK 모듬회 1개  ...   \n",
              "1137   카드결제             21000     0          3000  황금올리브 순살 반반치킨  ...   \n",
              "1138   배민페이             15100     0          1000      더블치즈베이컨버거  ...   \n",
              "\n",
              "            메뉴2  옵션2          메뉴3  옵션3  메뉴4  옵션4  메뉴5  옵션5  메뉴6  옵션6  \n",
              "0           NaN  NaN          NaN  NaN  NaN  NaN  NaN  NaN  NaN  NaN  \n",
              "1           NaN  NaN          NaN  NaN  NaN  NaN  NaN  NaN  NaN  NaN  \n",
              "2           NaN  NaN          NaN  NaN  NaN  NaN  NaN  NaN  NaN  NaN  \n",
              "3     봉구스밥버거 1개  NaN          NaN  NaN  NaN  NaN  NaN  NaN  NaN  NaN  \n",
              "4        날치알주먹밥  NaN          NaN  NaN  NaN  NaN  NaN  NaN  NaN  NaN  \n",
              "...         ...  ...          ...  ...  ...  ...  ...  ...  ...  ...  \n",
              "1134   아메리카노 1개  NaN  사과생크림 와플 1개  NaN  NaN  NaN  NaN  NaN  NaN  NaN  \n",
              "1135        NaN  NaN          NaN  NaN  NaN  NaN  NaN  NaN  NaN  NaN  \n",
              "1136        NaN  NaN          NaN  NaN  NaN  NaN  NaN  NaN  NaN  NaN  \n",
              "1137        NaN  NaN          NaN  NaN  NaN  NaN  NaN  NaN  NaN  NaN  \n",
              "1138       양념치킨   3p          NaN  NaN  NaN  NaN  NaN  NaN  NaN  NaN  \n",
              "\n",
              "[1139 rows x 21 columns]"
            ]
          },
          "metadata": {
            "tags": []
          },
          "execution_count": 50
        }
      ]
    },
    {
      "cell_type": "code",
      "metadata": {
        "colab": {
          "base_uri": "https://localhost:8080/"
        },
        "id": "ngFMJN9ocPBi",
        "outputId": "c0977c10-2ac1-418f-ba26-a0de73fab085"
      },
      "source": [
        "print(df['음식 카테고리'].unique())\n",
        "\n",
        "print(df['함께 먹은 사람\\n (연인,친구, 가족, 혼자)'].unique())\n",
        "\n",
        "print(df['결제방법'].unique())"
      ],
      "execution_count": null,
      "outputs": [
        {
          "output_type": "stream",
          "text": [
            "['치킨피자' '기타' '분식' '도시락' '샐러드&샌드위치' '족발보쌈' '양식' '일식' '중식' '한식' '패스트푸드'\n",
            " '아시안' '카페디저트']\n",
            "['가족' '혼자' '친구' '연인' nan]\n",
            "['카카오페이' '카드결제' '네이버페이' nan '배민페이' '토스' '상품권' '현금결제' '휴대폰결제' '계좌이체' '차이페이'\n",
            " '요기서 1초결제']\n"
          ],
          "name": "stdout"
        }
      ]
    },
    {
      "cell_type": "code",
      "metadata": {
        "id": "hfBRKc-fcPET"
      },
      "source": [
        "df['음식 카테고리'] = df['음식 카테고리'].astype('category')\n",
        "df['결제방법'] = df['결제방법'].astype('category')\n",
        "df['함께 먹은 사람\\n (연인,친구, 가족, 혼자)'] = df['함께 먹은 사람\\n (연인,친구, 가족, 혼자)'].astype('category')"
      ],
      "execution_count": null,
      "outputs": []
    },
    {
      "cell_type": "code",
      "metadata": {
        "colab": {
          "base_uri": "https://localhost:8080/"
        },
        "id": "cIoYY54DcPKr",
        "outputId": "f678b80e-ecdc-4769-bf34-9a906b0a9c1f"
      },
      "source": [
        "df.info()"
      ],
      "execution_count": null,
      "outputs": [
        {
          "output_type": "stream",
          "text": [
            "<class 'pandas.core.frame.DataFrame'>\n",
            "RangeIndex: 1139 entries, 0 to 1138\n",
            "Data columns (total 21 columns):\n",
            " #   Column                     Non-Null Count  Dtype   \n",
            "---  ------                     --------------  -----   \n",
            " 0   점포명                        1139 non-null   object  \n",
            " 1   음식 카테고리                    1139 non-null   category\n",
            " 2   함께 먹은 사람\n",
            " (연인,친구, 가족, 혼자)  1134 non-null   category\n",
            " 3   주문날짜                       1139 non-null   object  \n",
            " 4   주문시간                       1139 non-null   object  \n",
            " 5   결제방법                       847 non-null    category\n",
            " 6   주문 금액\n",
            " (총 결제금액x)           1136 non-null   object  \n",
            " 7   배달요금                       1078 non-null   object  \n",
            " 8   할인금액\n",
            " (쿠폰 등)               998 non-null    object  \n",
            " 9   메뉴1                        1136 non-null   object  \n",
            " 10  옵션1                        679 non-null    object  \n",
            " 11  메뉴2                        384 non-null    object  \n",
            " 12  옵션2                        122 non-null    object  \n",
            " 13  메뉴3                        129 non-null    object  \n",
            " 14  옵션3                        28 non-null     object  \n",
            " 15  메뉴4                        29 non-null     object  \n",
            " 16  옵션4                        5 non-null      object  \n",
            " 17  메뉴5                        10 non-null     object  \n",
            " 18  옵션5                        1 non-null      object  \n",
            " 19  메뉴6                        3 non-null      object  \n",
            " 20  옵션6                        1 non-null      object  \n",
            "dtypes: category(3), object(18)\n",
            "memory usage: 164.9+ KB\n"
          ],
          "name": "stdout"
        }
      ]
    },
    {
      "cell_type": "code",
      "metadata": {
        "colab": {
          "base_uri": "https://localhost:8080/"
        },
        "id": "bqQXs559cPNR",
        "outputId": "99a5e1aa-4c09-4f02-d9d8-bb7c574b543e"
      },
      "source": [
        "#주문 금액 NULL값 제거\n",
        "\n",
        "df=df.dropna(subset=['주문 금액\\n (총 결제금액x)'])\n",
        "df.info()"
      ],
      "execution_count": null,
      "outputs": [
        {
          "output_type": "stream",
          "text": [
            "<class 'pandas.core.frame.DataFrame'>\n",
            "Int64Index: 1136 entries, 0 to 1138\n",
            "Data columns (total 21 columns):\n",
            " #   Column                     Non-Null Count  Dtype   \n",
            "---  ------                     --------------  -----   \n",
            " 0   점포명                        1136 non-null   object  \n",
            " 1   음식 카테고리                    1136 non-null   category\n",
            " 2   함께 먹은 사람\n",
            " (연인,친구, 가족, 혼자)  1131 non-null   category\n",
            " 3   주문날짜                       1136 non-null   object  \n",
            " 4   주문시간                       1136 non-null   object  \n",
            " 5   결제방법                       847 non-null    category\n",
            " 6   주문 금액\n",
            " (총 결제금액x)           1136 non-null   object  \n",
            " 7   배달요금                       1077 non-null   object  \n",
            " 8   할인금액\n",
            " (쿠폰 등)               997 non-null    object  \n",
            " 9   메뉴1                        1133 non-null   object  \n",
            " 10  옵션1                        677 non-null    object  \n",
            " 11  메뉴2                        381 non-null    object  \n",
            " 12  옵션2                        121 non-null    object  \n",
            " 13  메뉴3                        127 non-null    object  \n",
            " 14  옵션3                        28 non-null     object  \n",
            " 15  메뉴4                        28 non-null     object  \n",
            " 16  옵션4                        5 non-null      object  \n",
            " 17  메뉴5                        10 non-null     object  \n",
            " 18  옵션5                        1 non-null      object  \n",
            " 19  메뉴6                        3 non-null      object  \n",
            " 20  옵션6                        1 non-null      object  \n",
            "dtypes: category(3), object(18)\n",
            "memory usage: 173.3+ KB\n"
          ],
          "name": "stdout"
        }
      ]
    },
    {
      "cell_type": "code",
      "metadata": {
        "id": "nwCjT1TAgi81"
      },
      "source": [
        "# 특수문자 제거 39,000\n",
        "df['주문 금액\\n (총 결제금액x)'] = df['주문 금액\\n (총 결제금액x)'].str.replace(pat=r'[^\\w]', repl=r'', regex=True)"
      ],
      "execution_count": null,
      "outputs": []
    },
    {
      "cell_type": "markdown",
      "metadata": {
        "id": "4c5mqKHOONch"
      },
      "source": [
        ""
      ]
    },
    {
      "cell_type": "code",
      "metadata": {
        "colab": {
          "base_uri": "https://localhost:8080/"
        },
        "id": "sa7bRS0mgi5v",
        "outputId": "5ea364ac-c5e9-4757-bbd0-0260fb1d398f"
      },
      "source": [
        "#데이터 타입변경\n",
        "df['주문 금액\\n (총 결제금액x)'] = df['주문 금액\\n (총 결제금액x)'].astype('int')\n",
        "df.info()"
      ],
      "execution_count": null,
      "outputs": [
        {
          "output_type": "stream",
          "text": [
            "<class 'pandas.core.frame.DataFrame'>\n",
            "Int64Index: 1136 entries, 0 to 1138\n",
            "Data columns (total 21 columns):\n",
            " #   Column                     Non-Null Count  Dtype   \n",
            "---  ------                     --------------  -----   \n",
            " 0   점포명                        1136 non-null   object  \n",
            " 1   음식 카테고리                    1136 non-null   category\n",
            " 2   함께 먹은 사람\n",
            " (연인,친구, 가족, 혼자)  1131 non-null   category\n",
            " 3   주문날짜                       1136 non-null   object  \n",
            " 4   주문시간                       1136 non-null   object  \n",
            " 5   결제방법                       847 non-null    category\n",
            " 6   주문 금액\n",
            " (총 결제금액x)           1136 non-null   int64   \n",
            " 7   배달요금                       1077 non-null   object  \n",
            " 8   할인금액\n",
            " (쿠폰 등)               997 non-null    object  \n",
            " 9   메뉴1                        1133 non-null   object  \n",
            " 10  옵션1                        677 non-null    object  \n",
            " 11  메뉴2                        381 non-null    object  \n",
            " 12  옵션2                        121 non-null    object  \n",
            " 13  메뉴3                        127 non-null    object  \n",
            " 14  옵션3                        28 non-null     object  \n",
            " 15  메뉴4                        28 non-null     object  \n",
            " 16  옵션4                        5 non-null      object  \n",
            " 17  메뉴5                        10 non-null     object  \n",
            " 18  옵션5                        1 non-null      object  \n",
            " 19  메뉴6                        3 non-null      object  \n",
            " 20  옵션6                        1 non-null      object  \n",
            "dtypes: category(3), int64(1), object(17)\n",
            "memory usage: 173.3+ KB\n"
          ],
          "name": "stdout"
        }
      ]
    },
    {
      "cell_type": "code",
      "metadata": {
        "colab": {
          "base_uri": "https://localhost:8080/",
          "height": 471
        },
        "id": "MKqlD9-Igi_2",
        "outputId": "92ce0b09-a0da-4058-e8b8-5b51f28ce952"
      },
      "source": [
        "#그룹별 통계량 확인\n",
        "df.groupby(['주문날짜']).agg(['mean','median','min','max','sum','count'])"
      ],
      "execution_count": null,
      "outputs": [
        {
          "output_type": "execute_result",
          "data": {
            "text/html": [
              "<div>\n",
              "<style scoped>\n",
              "    .dataframe tbody tr th:only-of-type {\n",
              "        vertical-align: middle;\n",
              "    }\n",
              "\n",
              "    .dataframe tbody tr th {\n",
              "        vertical-align: top;\n",
              "    }\n",
              "\n",
              "    .dataframe thead tr th {\n",
              "        text-align: left;\n",
              "    }\n",
              "\n",
              "    .dataframe thead tr:last-of-type th {\n",
              "        text-align: right;\n",
              "    }\n",
              "</style>\n",
              "<table border=\"1\" class=\"dataframe\">\n",
              "  <thead>\n",
              "    <tr>\n",
              "      <th></th>\n",
              "      <th colspan=\"6\" halign=\"left\">주문 금액\\n (총 결제금액x)</th>\n",
              "    </tr>\n",
              "    <tr>\n",
              "      <th></th>\n",
              "      <th>mean</th>\n",
              "      <th>median</th>\n",
              "      <th>min</th>\n",
              "      <th>max</th>\n",
              "      <th>sum</th>\n",
              "      <th>count</th>\n",
              "    </tr>\n",
              "    <tr>\n",
              "      <th>주문날짜</th>\n",
              "      <th></th>\n",
              "      <th></th>\n",
              "      <th></th>\n",
              "      <th></th>\n",
              "      <th></th>\n",
              "      <th></th>\n",
              "    </tr>\n",
              "  </thead>\n",
              "  <tbody>\n",
              "    <tr>\n",
              "      <th>2020.01.01</th>\n",
              "      <td>20380.0</td>\n",
              "      <td>18900</td>\n",
              "      <td>7500</td>\n",
              "      <td>40000</td>\n",
              "      <td>101900</td>\n",
              "      <td>5</td>\n",
              "    </tr>\n",
              "    <tr>\n",
              "      <th>2020.01.02</th>\n",
              "      <td>17000.0</td>\n",
              "      <td>17000</td>\n",
              "      <td>16000</td>\n",
              "      <td>18000</td>\n",
              "      <td>34000</td>\n",
              "      <td>2</td>\n",
              "    </tr>\n",
              "    <tr>\n",
              "      <th>2020.01.03</th>\n",
              "      <td>15900.0</td>\n",
              "      <td>15900</td>\n",
              "      <td>15900</td>\n",
              "      <td>15900</td>\n",
              "      <td>15900</td>\n",
              "      <td>1</td>\n",
              "    </tr>\n",
              "    <tr>\n",
              "      <th>2020.01.04</th>\n",
              "      <td>11000.0</td>\n",
              "      <td>11000</td>\n",
              "      <td>11000</td>\n",
              "      <td>11000</td>\n",
              "      <td>11000</td>\n",
              "      <td>1</td>\n",
              "    </tr>\n",
              "    <tr>\n",
              "      <th>2020.01.05</th>\n",
              "      <td>12900.0</td>\n",
              "      <td>12900</td>\n",
              "      <td>12900</td>\n",
              "      <td>12900</td>\n",
              "      <td>12900</td>\n",
              "      <td>1</td>\n",
              "    </tr>\n",
              "    <tr>\n",
              "      <th>...</th>\n",
              "      <td>...</td>\n",
              "      <td>...</td>\n",
              "      <td>...</td>\n",
              "      <td>...</td>\n",
              "      <td>...</td>\n",
              "      <td>...</td>\n",
              "    </tr>\n",
              "    <tr>\n",
              "      <th>2021.02.02</th>\n",
              "      <td>15000.0</td>\n",
              "      <td>15000</td>\n",
              "      <td>15000</td>\n",
              "      <td>15000</td>\n",
              "      <td>15000</td>\n",
              "      <td>1</td>\n",
              "    </tr>\n",
              "    <tr>\n",
              "      <th>2021.02.08</th>\n",
              "      <td>51000.0</td>\n",
              "      <td>51000</td>\n",
              "      <td>51000</td>\n",
              "      <td>51000</td>\n",
              "      <td>51000</td>\n",
              "      <td>1</td>\n",
              "    </tr>\n",
              "    <tr>\n",
              "      <th>2021.02.16</th>\n",
              "      <td>17800.0</td>\n",
              "      <td>17800</td>\n",
              "      <td>17800</td>\n",
              "      <td>17800</td>\n",
              "      <td>17800</td>\n",
              "      <td>1</td>\n",
              "    </tr>\n",
              "    <tr>\n",
              "      <th>2021.02.17</th>\n",
              "      <td>23000.0</td>\n",
              "      <td>23000</td>\n",
              "      <td>23000</td>\n",
              "      <td>23000</td>\n",
              "      <td>23000</td>\n",
              "      <td>1</td>\n",
              "    </tr>\n",
              "    <tr>\n",
              "      <th>2021.02.18</th>\n",
              "      <td>27900.0</td>\n",
              "      <td>27900</td>\n",
              "      <td>27900</td>\n",
              "      <td>27900</td>\n",
              "      <td>27900</td>\n",
              "      <td>1</td>\n",
              "    </tr>\n",
              "  </tbody>\n",
              "</table>\n",
              "<p>352 rows × 6 columns</p>\n",
              "</div>"
            ],
            "text/plain": [
              "           주문 금액\\n (총 결제금액x)                                   \n",
              "                        mean median    min    max     sum count\n",
              "주문날짜                                                           \n",
              "2020.01.01           20380.0  18900   7500  40000  101900     5\n",
              "2020.01.02           17000.0  17000  16000  18000   34000     2\n",
              "2020.01.03           15900.0  15900  15900  15900   15900     1\n",
              "2020.01.04           11000.0  11000  11000  11000   11000     1\n",
              "2020.01.05           12900.0  12900  12900  12900   12900     1\n",
              "...                      ...    ...    ...    ...     ...   ...\n",
              "2021.02.02           15000.0  15000  15000  15000   15000     1\n",
              "2021.02.08           51000.0  51000  51000  51000   51000     1\n",
              "2021.02.16           17800.0  17800  17800  17800   17800     1\n",
              "2021.02.17           23000.0  23000  23000  23000   23000     1\n",
              "2021.02.18           27900.0  27900  27900  27900   27900     1\n",
              "\n",
              "[352 rows x 6 columns]"
            ]
          },
          "metadata": {
            "tags": []
          },
          "execution_count": 11
        }
      ]
    },
    {
      "cell_type": "markdown",
      "metadata": {
        "id": "N9ueVCS0Bj5D"
      },
      "source": [
        "#데이터 시각화 Bar 그래프와 Pie 그래프로 카테고리별 비교"
      ]
    },
    {
      "cell_type": "code",
      "metadata": {
        "colab": {
          "base_uri": "https://localhost:8080/",
          "height": 349
        },
        "id": "bfLKupTj_2IC",
        "outputId": "a19363db-9af7-44dc-fcfe-2a12c9b20d2b"
      },
      "source": [
        "plt.figure(figsize= (12,5))\n",
        "sns.countplot(x=\"결제방법\", data=df)\n",
        "plt.title(\"how people pay when they use delivery service \")\n",
        "plt.show()"
      ],
      "execution_count": null,
      "outputs": [
        {
          "output_type": "display_data",
          "data": {
            "image/png": "[encoded data removed]",
            "text/plain": [
              "<Figure size 864x360 with 1 Axes>"
            ]
          },
          "metadata": {
            "tags": []
          }
        }
      ]
    },
    {
      "cell_type": "code",
      "metadata": {
        "colab": {
          "base_uri": "https://localhost:8080/"
        },
        "id": "heQOYaHbCo1m",
        "outputId": "1f333b03-c9f0-4f82-82c8-744afc031801"
      },
      "source": [
        "#category의 분포를 amt라는 이름으로 저장하여 확인\n",
        "amt = df['결제방법'].value_counts()\n",
        "amt.head()"
      ],
      "execution_count": null,
      "outputs": [
        {
          "output_type": "execute_result",
          "data": {
            "text/plain": [
              "카드결제     250\n",
              "카카오페이    173\n",
              "네이버페이    173\n",
              "배민페이     149\n",
              "토스        51\n",
              "Name: 결제방법, dtype: int64"
            ]
          },
          "metadata": {
            "tags": []
          },
          "execution_count": 13
        }
      ]
    },
    {
      "cell_type": "code",
      "metadata": {
        "colab": {
          "base_uri": "https://localhost:8080/",
          "height": 248
        },
        "id": "vhlByV1egjFB",
        "outputId": "c9198b3b-17c8-4b54-ad4b-b6acd5c43624"
      },
      "source": [
        "##pie차트를 만드는 함수 df.pie를 사용하여 pie차트를 만드는데, labels은 amt에 사용된 index로 지정하고, 수치들은 소수점 2자리까지 나타내라.\n",
        "plt.pie(amt, labels=amt.index,autopct='%.2f%%')\n",
        "plt.show()"
      ],
      "execution_count": null,
      "outputs": [
        {
          "output_type": "display_data",
          "data": {
            "image/png": "[encoded data removed]",
            "text/plain": [
              "<Figure size 432x288 with 1 Axes>"
            ]
          },
          "metadata": {
            "tags": []
          }
        }
      ]
    },
    {
      "cell_type": "code",
      "metadata": {
        "id": "X56Pfkt3gjIJ"
      },
      "source": [
        "group_place = df.groupby(\"점포명\").sum()\n",
        "group_place\n",
        "\n",
        "group_place123 =df.groupby(\"점포명\").mean()"
      ],
      "execution_count": null,
      "outputs": []
    },
    {
      "cell_type": "code",
      "metadata": {
        "colab": {
          "base_uri": "https://localhost:8080/",
          "height": 440
        },
        "id": "nTn7QKlQgjLR",
        "outputId": "199db031-e490-43b8-b317-bd65e8ace7d7"
      },
      "source": [
        "group_place = group_place.sort_values(by=\"주문 금액\\n (총 결제금액x)\", ascending=False)\n",
        "group_place\n",
        "\n",
        "\n",
        "group_place123 = group_place123.sort_values(by=\"주문 금액\\n (총 결제금액x)\",ascending=False)\n",
        "group_place123"
      ],
      "execution_count": null,
      "outputs": [
        {
          "output_type": "execute_result",
          "data": {
            "text/html": [
              "<div>\n",
              "<style scoped>\n",
              "    .dataframe tbody tr th:only-of-type {\n",
              "        vertical-align: middle;\n",
              "    }\n",
              "\n",
              "    .dataframe tbody tr th {\n",
              "        vertical-align: top;\n",
              "    }\n",
              "\n",
              "    .dataframe thead th {\n",
              "        text-align: right;\n",
              "    }\n",
              "</style>\n",
              "<table border=\"1\" class=\"dataframe\">\n",
              "  <thead>\n",
              "    <tr style=\"text-align: right;\">\n",
              "      <th></th>\n",
              "      <th>주문 금액\\n (총 결제금액x)</th>\n",
              "      <th>Year</th>\n",
              "      <th>Month</th>\n",
              "      <th>Day</th>\n",
              "    </tr>\n",
              "    <tr>\n",
              "      <th>점포명</th>\n",
              "      <th></th>\n",
              "      <th></th>\n",
              "      <th></th>\n",
              "      <th></th>\n",
              "    </tr>\n",
              "  </thead>\n",
              "  <tbody>\n",
              "    <tr>\n",
              "      <th>써브웨이 부산대전</th>\n",
              "      <td>69200.0</td>\n",
              "      <td>2020.0</td>\n",
              "      <td>6.0</td>\n",
              "      <td>6.0</td>\n",
              "    </tr>\n",
              "    <tr>\n",
              "      <th>소고기세끼</th>\n",
              "      <td>51000.0</td>\n",
              "      <td>2021.0</td>\n",
              "      <td>2.0</td>\n",
              "      <td>8.0</td>\n",
              "    </tr>\n",
              "    <tr>\n",
              "      <th>국제통닭 부산대점</th>\n",
              "      <td>39000.0</td>\n",
              "      <td>2020.0</td>\n",
              "      <td>1.0</td>\n",
              "      <td>27.0</td>\n",
              "    </tr>\n",
              "    <tr>\n",
              "      <th>오늘은 횟집</th>\n",
              "      <td>39000.0</td>\n",
              "      <td>2020.0</td>\n",
              "      <td>10.0</td>\n",
              "      <td>18.0</td>\n",
              "    </tr>\n",
              "    <tr>\n",
              "      <th>목촌생생 족발&amp;보쌈&amp;막국수</th>\n",
              "      <td>38000.0</td>\n",
              "      <td>2020.0</td>\n",
              "      <td>5.0</td>\n",
              "      <td>27.0</td>\n",
              "    </tr>\n",
              "    <tr>\n",
              "      <th>...</th>\n",
              "      <td>...</td>\n",
              "      <td>...</td>\n",
              "      <td>...</td>\n",
              "      <td>...</td>\n",
              "    </tr>\n",
              "    <tr>\n",
              "      <th>노스커피 부산대 정문점</th>\n",
              "      <td>5000.0</td>\n",
              "      <td>2020.0</td>\n",
              "      <td>11.0</td>\n",
              "      <td>20.0</td>\n",
              "    </tr>\n",
              "    <tr>\n",
              "      <th>3-LABELS(쓰리라벨즈)</th>\n",
              "      <td>3800.0</td>\n",
              "      <td>2020.0</td>\n",
              "      <td>10.0</td>\n",
              "      <td>13.0</td>\n",
              "    </tr>\n",
              "    <tr>\n",
              "      <th>오 닭꼬치 부산대북문점</th>\n",
              "      <td>3500.0</td>\n",
              "      <td>2020.0</td>\n",
              "      <td>6.0</td>\n",
              "      <td>28.0</td>\n",
              "    </tr>\n",
              "    <tr>\n",
              "      <th>밀당</th>\n",
              "      <td>3300.0</td>\n",
              "      <td>2020.0</td>\n",
              "      <td>11.0</td>\n",
              "      <td>15.0</td>\n",
              "    </tr>\n",
              "    <tr>\n",
              "      <th>강다짐삼각김밥 부산대점</th>\n",
              "      <td>2300.0</td>\n",
              "      <td>2020.0</td>\n",
              "      <td>12.0</td>\n",
              "      <td>18.0</td>\n",
              "    </tr>\n",
              "  </tbody>\n",
              "</table>\n",
              "<p>452 rows × 4 columns</p>\n",
              "</div>"
            ],
            "text/plain": [
              "                 주문 금액\\n (총 결제금액x)    Year  Month   Day\n",
              "점포명                                                    \n",
              "써브웨이 부산대전                  69200.0  2020.0    6.0   6.0\n",
              "소고기세끼                      51000.0  2021.0    2.0   8.0\n",
              "국제통닭 부산대점                  39000.0  2020.0    1.0  27.0\n",
              "오늘은 횟집                     39000.0  2020.0   10.0  18.0\n",
              "목촌생생 족발&보쌈&막국수             38000.0  2020.0    5.0  27.0\n",
              "...                            ...     ...    ...   ...\n",
              "노스커피 부산대 정문점                5000.0  2020.0   11.0  20.0\n",
              "3-LABELS(쓰리라벨즈)             3800.0  2020.0   10.0  13.0\n",
              "오 닭꼬치 부산대북문점                3500.0  2020.0    6.0  28.0\n",
              "밀당                          3300.0  2020.0   11.0  15.0\n",
              "강다짐삼각김밥 부산대점                2300.0  2020.0   12.0  18.0\n",
              "\n",
              "[452 rows x 4 columns]"
            ]
          },
          "metadata": {
            "tags": []
          },
          "execution_count": 129
        }
      ]
    },
    {
      "cell_type": "code",
      "metadata": {
        "colab": {
          "background_save": true,
          "base_uri": "https://localhost:8080/",
          "height": 1000
        },
        "id": "hZll11IagjNV",
        "outputId": "b7038a42-392f-4376-f875-dd352556d94f"
      },
      "source": [
        "plt.figure(figsize=(15,100))\n",
        "sns.barplot(x = '주문 금액\\n (총 결제금액x)', y = group_place.index, data = group_place)"
      ],
      "execution_count": null,
      "outputs": [
        {
          "output_type": "execute_result",
          "data": {
            "text/plain": [
              "<matplotlib.axes._subplots.AxesSubplot at 0x7f8b37353510>"
            ]
          },
          "metadata": {
            "tags": []
          },
          "execution_count": 0
        },
        {
          "output_type": "display_data",
          "data": {
            "image/png": "[encoded data removed]",
            "text/plain": [
              "<Figure size 1080x7200 with 1 Axes>"
            ]
          },
          "metadata": {
            "tags": []
          }
        }
      ]
    },
    {
      "cell_type": "code",
      "metadata": {
        "colab": {
          "background_save": true,
          "base_uri": "https://localhost:8080/",
          "height": 199
        },
        "id": "eMffW1MU6jAt",
        "outputId": "85f93475-58b0-4ddb-d34c-251e911f578d"
      },
      "source": [
        "group_with = df.groupby(\"함께 먹은 사람\\n (연인,친구, 가족, 혼자)\").sum()\n",
        "group_with"
      ],
      "execution_count": null,
      "outputs": [
        {
          "output_type": "execute_result",
          "data": {
            "text/html": [
              "<div>\n",
              "<style scoped>\n",
              "    .dataframe tbody tr th:only-of-type {\n",
              "        vertical-align: middle;\n",
              "    }\n",
              "\n",
              "    .dataframe tbody tr th {\n",
              "        vertical-align: top;\n",
              "    }\n",
              "\n",
              "    .dataframe thead th {\n",
              "        text-align: right;\n",
              "    }\n",
              "</style>\n",
              "<table border=\"1\" class=\"dataframe\">\n",
              "  <thead>\n",
              "    <tr style=\"text-align: right;\">\n",
              "      <th></th>\n",
              "      <th>주문 금액\\n (총 결제금액x)</th>\n",
              "    </tr>\n",
              "    <tr>\n",
              "      <th>함께 먹은 사람\n",
              " (연인,친구, 가족, 혼자)</th>\n",
              "      <th></th>\n",
              "    </tr>\n",
              "  </thead>\n",
              "  <tbody>\n",
              "    <tr>\n",
              "      <th>가족</th>\n",
              "      <td>1680100</td>\n",
              "    </tr>\n",
              "    <tr>\n",
              "      <th>연인</th>\n",
              "      <td>3706700</td>\n",
              "    </tr>\n",
              "    <tr>\n",
              "      <th>친구</th>\n",
              "      <td>7269200</td>\n",
              "    </tr>\n",
              "    <tr>\n",
              "      <th>혼자</th>\n",
              "      <td>5947900</td>\n",
              "    </tr>\n",
              "  </tbody>\n",
              "</table>\n",
              "</div>"
            ],
            "text/plain": [
              "                            주문 금액\\n (총 결제금액x)\n",
              "함께 먹은 사람\\n (연인,친구, 가족, 혼자)                   \n",
              "가족                                    1680100\n",
              "연인                                    3706700\n",
              "친구                                    7269200\n",
              "혼자                                    5947900"
            ]
          },
          "metadata": {
            "tags": []
          },
          "execution_count": 0
        }
      ]
    },
    {
      "cell_type": "code",
      "metadata": {
        "colab": {
          "background_save": true,
          "base_uri": "https://localhost:8080/",
          "height": 360
        },
        "id": "RqZ92APK6jDs",
        "outputId": "7e565987-0351-438a-f0a0-172f25280e4b"
      },
      "source": [
        "plt.figure(figsize= (7,5))\n",
        "sns.countplot(x=\"함께 먹은 사람\\n (연인,친구, 가족, 혼자)\", data=df)\n",
        "plt.title(\"how many people use delivery service with \")\n",
        "plt.show()"
      ],
      "execution_count": null,
      "outputs": [
        {
          "output_type": "display_data",
          "data": {
            "image/png": "[encoded data removed]",
            "text/plain": [
              "<Figure size 504x360 with 1 Axes>"
            ]
          },
          "metadata": {
            "tags": []
          }
        }
      ]
    },
    {
      "cell_type": "code",
      "metadata": {
        "colab": {
          "background_save": true,
          "base_uri": "https://localhost:8080/"
        },
        "id": "h4c3PRJa6jH4",
        "outputId": "a2a4edd6-3398-4410-f14c-af0436d8ea2e"
      },
      "source": [
        "amt2 = df[\"함께 먹은 사람\\n (연인,친구, 가족, 혼자)\"].value_counts()\n",
        "amt2.head()\n"
      ],
      "execution_count": null,
      "outputs": [
        {
          "output_type": "execute_result",
          "data": {
            "text/plain": [
              "혼자    475\n",
              "친구    363\n",
              "연인    218\n",
              "가족     75\n",
              "Name: 함께 먹은 사람\\n (연인,친구, 가족, 혼자), dtype: int64"
            ]
          },
          "metadata": {
            "tags": []
          },
          "execution_count": 0
        }
      ]
    },
    {
      "cell_type": "code",
      "metadata": {
        "colab": {
          "background_save": true,
          "base_uri": "https://localhost:8080/",
          "height": 248
        },
        "id": "fN7S26mI6jKx",
        "outputId": "13cfb81b-db9e-4691-e94a-29c40d208160"
      },
      "source": [
        "plt.pie(amt2, labels=amt2.index,autopct='%.2f%%')\n",
        "plt.show()"
      ],
      "execution_count": null,
      "outputs": [
        {
          "output_type": "display_data",
          "data": {
            "image/png": "[encoded data removed]",
            "text/plain": [
              "<Figure size 432x288 with 1 Axes>"
            ]
          },
          "metadata": {
            "tags": []
          }
        }
      ]
    },
    {
      "cell_type": "code",
      "metadata": {
        "colab": {
          "background_save": true,
          "base_uri": "https://localhost:8080/",
          "height": 349
        },
        "id": "3Xy0IaKlAttJ",
        "outputId": "36c33e15-1af7-4a91-e7d7-f6235b5df842"
      },
      "source": [
        "plt.figure(figsize= (12,5))\n",
        "sns.countplot(x=\"음식 카테고리\", data=df)\n",
        "plt.title(\"what people eat\")\n",
        "plt.show()"
      ],
      "execution_count": null,
      "outputs": [
        {
          "output_type": "display_data",
          "data": {
            "image/png": "[encoded data removed]",
            "text/plain": [
              "<Figure size 864x360 with 1 Axes>"
            ]
          },
          "metadata": {
            "tags": []
          }
        }
      ]
    },
    {
      "cell_type": "code",
      "metadata": {
        "colab": {
          "background_save": true,
          "base_uri": "https://localhost:8080/"
        },
        "id": "16YALR63BQ0s",
        "outputId": "c4984f33-ed68-4f49-9384-ee47c05c9db2"
      },
      "source": [
        "amt3 = df[\"음식 카테고리\"].value_counts()\n",
        "amt3.head()"
      ],
      "execution_count": null,
      "outputs": [
        {
          "output_type": "execute_result",
          "data": {
            "text/plain": [
              "치킨피자    284\n",
              "한식      253\n",
              "분식      110\n",
              "중식      105\n",
              "일식       77\n",
              "Name: 음식 카테고리, dtype: int64"
            ]
          },
          "metadata": {
            "tags": []
          },
          "execution_count": 0
        }
      ]
    },
    {
      "cell_type": "code",
      "metadata": {
        "colab": {
          "background_save": true,
          "base_uri": "https://localhost:8080/",
          "height": 248
        },
        "id": "mAXLKU1CBWPS",
        "outputId": "10bb11a4-9cb9-4c9e-98f4-bc58c524c95b"
      },
      "source": [
        "plt.pie(amt3, labels=amt3.index,autopct='%.2f%%')\n",
        "plt.show()"
      ],
      "execution_count": null,
      "outputs": [
        {
          "output_type": "display_data",
          "data": {
            "image/png": "[encoded data removed]",
            "text/plain": [
              "<Figure size 432x288 with 1 Axes>"
            ]
          },
          "metadata": {
            "tags": []
          }
        }
      ]
    },
    {
      "cell_type": "markdown",
      "metadata": {
        "id": "-A5ZRer77Hug"
      },
      "source": [
        "#시간에따른 변화 Check"
      ]
    },
    {
      "cell_type": "code",
      "metadata": {
        "colab": {
          "background_save": true,
          "base_uri": "https://localhost:8080/",
          "height": 896
        },
        "id": "lUlxUm4BBBWd",
        "outputId": "d4b76be2-fd74-4bd3-cbf8-951a94476a1b"
      },
      "source": [
        "df['new_Date'] = pd.to_datetime(df['주문날짜'])\n",
        "print(df.head())\n",
        "print('\\n')\n",
        "print(df.info())"
      ],
      "execution_count": null,
      "outputs": [
        {
          "output_type": "error",
          "ename": "ParserError",
          "evalue": "ignored",
          "traceback": [
            "\u001b[0;31m---------------------------------------------------------------------------\u001b[0m",
            "\u001b[0;31mValueError\u001b[0m                                Traceback (most recent call last)",
            "\u001b[0;32m/usr/local/lib/python3.7/dist-packages/dateutil/parser/_parser.py\u001b[0m in \u001b[0;36mparse\u001b[0;34m(self, timestr, default, ignoretz, tzinfos, **kwargs)\u001b[0m\n\u001b[1;32m    654\u001b[0m         \u001b[0;32mtry\u001b[0m\u001b[0;34m:\u001b[0m\u001b[0;34m\u001b[0m\u001b[0;34m\u001b[0m\u001b[0m\n\u001b[0;32m--> 655\u001b[0;31m             \u001b[0mret\u001b[0m \u001b[0;34m=\u001b[0m \u001b[0mself\u001b[0m\u001b[0;34m.\u001b[0m\u001b[0m_build_naive\u001b[0m\u001b[0;34m(\u001b[0m\u001b[0mres\u001b[0m\u001b[0;34m,\u001b[0m \u001b[0mdefault\u001b[0m\u001b[0;34m)\u001b[0m\u001b[0;34m\u001b[0m\u001b[0;34m\u001b[0m\u001b[0m\n\u001b[0m\u001b[1;32m    656\u001b[0m         \u001b[0;32mexcept\u001b[0m \u001b[0mValueError\u001b[0m \u001b[0;32mas\u001b[0m \u001b[0me\u001b[0m\u001b[0;34m:\u001b[0m\u001b[0;34m\u001b[0m\u001b[0;34m\u001b[0m\u001b[0m\n",
            "\u001b[0;32m/usr/local/lib/python3.7/dist-packages/dateutil/parser/_parser.py\u001b[0m in \u001b[0;36m_build_naive\u001b[0;34m(self, res, default)\u001b[0m\n\u001b[1;32m   1240\u001b[0m \u001b[0;34m\u001b[0m\u001b[0m\n\u001b[0;32m-> 1241\u001b[0;31m         \u001b[0mnaive\u001b[0m \u001b[0;34m=\u001b[0m \u001b[0mdefault\u001b[0m\u001b[0;34m.\u001b[0m\u001b[0mreplace\u001b[0m\u001b[0;34m(\u001b[0m\u001b[0;34m**\u001b[0m\u001b[0mrepl\u001b[0m\u001b[0;34m)\u001b[0m\u001b[0;34m\u001b[0m\u001b[0;34m\u001b[0m\u001b[0m\n\u001b[0m\u001b[1;32m   1242\u001b[0m \u001b[0;34m\u001b[0m\u001b[0m\n",
            "\u001b[0;31mValueError\u001b[0m: day is out of range for month",
            "\nThe above exception was the direct cause of the following exception:\n",
            "\u001b[0;31mParserError\u001b[0m                               Traceback (most recent call last)",
            "\u001b[0;32mpandas/_libs/tslib.pyx\u001b[0m in \u001b[0;36mpandas._libs.tslib.array_to_datetime\u001b[0;34m()\u001b[0m\n",
            "\u001b[0;32mpandas/_libs/tslibs/parsing.pyx\u001b[0m in \u001b[0;36mpandas._libs.tslibs.parsing.parse_datetime_string\u001b[0;34m()\u001b[0m\n",
            "\u001b[0;32m/usr/local/lib/python3.7/dist-packages/dateutil/parser/_parser.py\u001b[0m in \u001b[0;36mparse\u001b[0;34m(timestr, parserinfo, **kwargs)\u001b[0m\n\u001b[1;32m   1373\u001b[0m     \u001b[0;32melse\u001b[0m\u001b[0;34m:\u001b[0m\u001b[0;34m\u001b[0m\u001b[0;34m\u001b[0m\u001b[0m\n\u001b[0;32m-> 1374\u001b[0;31m         \u001b[0;32mreturn\u001b[0m \u001b[0mDEFAULTPARSER\u001b[0m\u001b[0;34m.\u001b[0m\u001b[0mparse\u001b[0m\u001b[0;34m(\u001b[0m\u001b[0mtimestr\u001b[0m\u001b[0;34m,\u001b[0m \u001b[0;34m**\u001b[0m\u001b[0mkwargs\u001b[0m\u001b[0;34m)\u001b[0m\u001b[0;34m\u001b[0m\u001b[0;34m\u001b[0m\u001b[0m\n\u001b[0m\u001b[1;32m   1375\u001b[0m \u001b[0;34m\u001b[0m\u001b[0m\n",
            "\u001b[0;32m/usr/local/lib/python3.7/dist-packages/dateutil/parser/_parser.py\u001b[0m in \u001b[0;36mparse\u001b[0;34m(self, timestr, default, ignoretz, tzinfos, **kwargs)\u001b[0m\n\u001b[1;32m    656\u001b[0m         \u001b[0;32mexcept\u001b[0m \u001b[0mValueError\u001b[0m \u001b[0;32mas\u001b[0m \u001b[0me\u001b[0m\u001b[0;34m:\u001b[0m\u001b[0;34m\u001b[0m\u001b[0;34m\u001b[0m\u001b[0m\n\u001b[0;32m--> 657\u001b[0;31m             \u001b[0msix\u001b[0m\u001b[0;34m.\u001b[0m\u001b[0mraise_from\u001b[0m\u001b[0;34m(\u001b[0m\u001b[0mParserError\u001b[0m\u001b[0;34m(\u001b[0m\u001b[0me\u001b[0m\u001b[0;34m.\u001b[0m\u001b[0margs\u001b[0m\u001b[0;34m[\u001b[0m\u001b[0;36m0\u001b[0m\u001b[0;34m]\u001b[0m \u001b[0;34m+\u001b[0m \u001b[0;34m\": %s\"\u001b[0m\u001b[0;34m,\u001b[0m \u001b[0mtimestr\u001b[0m\u001b[0;34m)\u001b[0m\u001b[0;34m,\u001b[0m \u001b[0me\u001b[0m\u001b[0;34m)\u001b[0m\u001b[0;34m\u001b[0m\u001b[0;34m\u001b[0m\u001b[0m\n\u001b[0m\u001b[1;32m    658\u001b[0m \u001b[0;34m\u001b[0m\u001b[0m\n",
            "\u001b[0;32m/usr/local/lib/python3.7/dist-packages/six.py\u001b[0m in \u001b[0;36mraise_from\u001b[0;34m(value, from_value)\u001b[0m\n",
            "\u001b[0;31mParserError\u001b[0m: day is out of range for month: 2020.12.32",
            "\nDuring handling of the above exception, another exception occurred:\n",
            "\u001b[0;31mTypeError\u001b[0m                                 Traceback (most recent call last)",
            "\u001b[0;32mpandas/_libs/tslib.pyx\u001b[0m in \u001b[0;36mpandas._libs.tslib.array_to_datetime\u001b[0;34m()\u001b[0m\n",
            "\u001b[0;31mTypeError\u001b[0m: invalid string coercion to datetime",
            "\nDuring handling of the above exception, another exception occurred:\n",
            "\u001b[0;31mValueError\u001b[0m                                Traceback (most recent call last)",
            "\u001b[0;32m/usr/local/lib/python3.7/dist-packages/dateutil/parser/_parser.py\u001b[0m in \u001b[0;36mparse\u001b[0;34m(self, timestr, default, ignoretz, tzinfos, **kwargs)\u001b[0m\n\u001b[1;32m    654\u001b[0m         \u001b[0;32mtry\u001b[0m\u001b[0;34m:\u001b[0m\u001b[0;34m\u001b[0m\u001b[0;34m\u001b[0m\u001b[0m\n\u001b[0;32m--> 655\u001b[0;31m             \u001b[0mret\u001b[0m \u001b[0;34m=\u001b[0m \u001b[0mself\u001b[0m\u001b[0;34m.\u001b[0m\u001b[0m_build_naive\u001b[0m\u001b[0;34m(\u001b[0m\u001b[0mres\u001b[0m\u001b[0;34m,\u001b[0m \u001b[0mdefault\u001b[0m\u001b[0;34m)\u001b[0m\u001b[0;34m\u001b[0m\u001b[0;34m\u001b[0m\u001b[0m\n\u001b[0m\u001b[1;32m    656\u001b[0m         \u001b[0;32mexcept\u001b[0m \u001b[0mValueError\u001b[0m \u001b[0;32mas\u001b[0m \u001b[0me\u001b[0m\u001b[0;34m:\u001b[0m\u001b[0;34m\u001b[0m\u001b[0;34m\u001b[0m\u001b[0m\n",
            "\u001b[0;32m/usr/local/lib/python3.7/dist-packages/dateutil/parser/_parser.py\u001b[0m in \u001b[0;36m_build_naive\u001b[0;34m(self, res, default)\u001b[0m\n\u001b[1;32m   1240\u001b[0m \u001b[0;34m\u001b[0m\u001b[0m\n\u001b[0;32m-> 1241\u001b[0;31m         \u001b[0mnaive\u001b[0m \u001b[0;34m=\u001b[0m \u001b[0mdefault\u001b[0m\u001b[0;34m.\u001b[0m\u001b[0mreplace\u001b[0m\u001b[0;34m(\u001b[0m\u001b[0;34m**\u001b[0m\u001b[0mrepl\u001b[0m\u001b[0;34m)\u001b[0m\u001b[0;34m\u001b[0m\u001b[0;34m\u001b[0m\u001b[0m\n\u001b[0m\u001b[1;32m   1242\u001b[0m \u001b[0;34m\u001b[0m\u001b[0m\n",
            "\u001b[0;31mValueError\u001b[0m: day is out of range for month",
            "\nThe above exception was the direct cause of the following exception:\n",
            "\u001b[0;31mParserError\u001b[0m                               Traceback (most recent call last)",
            "\u001b[0;32m<ipython-input-30-534bf24be220>\u001b[0m in \u001b[0;36m<module>\u001b[0;34m()\u001b[0m\n\u001b[0;32m----> 1\u001b[0;31m \u001b[0mdf\u001b[0m\u001b[0;34m[\u001b[0m\u001b[0;34m'new_Date'\u001b[0m\u001b[0;34m]\u001b[0m \u001b[0;34m=\u001b[0m \u001b[0mpd\u001b[0m\u001b[0;34m.\u001b[0m\u001b[0mto_datetime\u001b[0m\u001b[0;34m(\u001b[0m\u001b[0mdf\u001b[0m\u001b[0;34m[\u001b[0m\u001b[0;34m'주문날짜'\u001b[0m\u001b[0;34m]\u001b[0m\u001b[0;34m)\u001b[0m\u001b[0;34m\u001b[0m\u001b[0;34m\u001b[0m\u001b[0m\n\u001b[0m\u001b[1;32m      2\u001b[0m \u001b[0mprint\u001b[0m\u001b[0;34m(\u001b[0m\u001b[0mdf\u001b[0m\u001b[0;34m.\u001b[0m\u001b[0mhead\u001b[0m\u001b[0;34m(\u001b[0m\u001b[0;34m)\u001b[0m\u001b[0;34m)\u001b[0m\u001b[0;34m\u001b[0m\u001b[0;34m\u001b[0m\u001b[0m\n\u001b[1;32m      3\u001b[0m \u001b[0mprint\u001b[0m\u001b[0;34m(\u001b[0m\u001b[0;34m'\\n'\u001b[0m\u001b[0;34m)\u001b[0m\u001b[0;34m\u001b[0m\u001b[0;34m\u001b[0m\u001b[0m\n\u001b[1;32m      4\u001b[0m \u001b[0mprint\u001b[0m\u001b[0;34m(\u001b[0m\u001b[0mdf\u001b[0m\u001b[0;34m.\u001b[0m\u001b[0minfo\u001b[0m\u001b[0;34m(\u001b[0m\u001b[0;34m)\u001b[0m\u001b[0;34m)\u001b[0m\u001b[0;34m\u001b[0m\u001b[0;34m\u001b[0m\u001b[0m\n",
            "\u001b[0;32m/usr/local/lib/python3.7/dist-packages/pandas/core/tools/datetimes.py\u001b[0m in \u001b[0;36mto_datetime\u001b[0;34m(arg, errors, dayfirst, yearfirst, utc, format, exact, unit, infer_datetime_format, origin, cache)\u001b[0m\n\u001b[1;32m    801\u001b[0m             \u001b[0mresult\u001b[0m \u001b[0;34m=\u001b[0m \u001b[0marg\u001b[0m\u001b[0;34m.\u001b[0m\u001b[0mmap\u001b[0m\u001b[0;34m(\u001b[0m\u001b[0mcache_array\u001b[0m\u001b[0;34m)\u001b[0m\u001b[0;34m\u001b[0m\u001b[0;34m\u001b[0m\u001b[0m\n\u001b[1;32m    802\u001b[0m         \u001b[0;32melse\u001b[0m\u001b[0;34m:\u001b[0m\u001b[0;34m\u001b[0m\u001b[0;34m\u001b[0m\u001b[0m\n\u001b[0;32m--> 803\u001b[0;31m             \u001b[0mvalues\u001b[0m \u001b[0;34m=\u001b[0m \u001b[0mconvert_listlike\u001b[0m\u001b[0;34m(\u001b[0m\u001b[0marg\u001b[0m\u001b[0;34m.\u001b[0m\u001b[0m_values\u001b[0m\u001b[0;34m,\u001b[0m \u001b[0mformat\u001b[0m\u001b[0;34m)\u001b[0m\u001b[0;34m\u001b[0m\u001b[0;34m\u001b[0m\u001b[0m\n\u001b[0m\u001b[1;32m    804\u001b[0m             \u001b[0mresult\u001b[0m \u001b[0;34m=\u001b[0m \u001b[0marg\u001b[0m\u001b[0;34m.\u001b[0m\u001b[0m_constructor\u001b[0m\u001b[0;34m(\u001b[0m\u001b[0mvalues\u001b[0m\u001b[0;34m,\u001b[0m \u001b[0mindex\u001b[0m\u001b[0;34m=\u001b[0m\u001b[0marg\u001b[0m\u001b[0;34m.\u001b[0m\u001b[0mindex\u001b[0m\u001b[0;34m,\u001b[0m \u001b[0mname\u001b[0m\u001b[0;34m=\u001b[0m\u001b[0marg\u001b[0m\u001b[0;34m.\u001b[0m\u001b[0mname\u001b[0m\u001b[0;34m)\u001b[0m\u001b[0;34m\u001b[0m\u001b[0;34m\u001b[0m\u001b[0m\n\u001b[1;32m    805\u001b[0m     \u001b[0;32melif\u001b[0m \u001b[0misinstance\u001b[0m\u001b[0;34m(\u001b[0m\u001b[0marg\u001b[0m\u001b[0;34m,\u001b[0m \u001b[0;34m(\u001b[0m\u001b[0mABCDataFrame\u001b[0m\u001b[0;34m,\u001b[0m \u001b[0mabc\u001b[0m\u001b[0;34m.\u001b[0m\u001b[0mMutableMapping\u001b[0m\u001b[0;34m)\u001b[0m\u001b[0;34m)\u001b[0m\u001b[0;34m:\u001b[0m\u001b[0;34m\u001b[0m\u001b[0;34m\u001b[0m\u001b[0m\n",
            "\u001b[0;32m/usr/local/lib/python3.7/dist-packages/pandas/core/tools/datetimes.py\u001b[0m in \u001b[0;36m_convert_listlike_datetimes\u001b[0;34m(arg, format, name, tz, unit, errors, infer_datetime_format, dayfirst, yearfirst, exact)\u001b[0m\n\u001b[1;32m    464\u001b[0m             \u001b[0merrors\u001b[0m\u001b[0;34m=\u001b[0m\u001b[0merrors\u001b[0m\u001b[0;34m,\u001b[0m\u001b[0;34m\u001b[0m\u001b[0;34m\u001b[0m\u001b[0m\n\u001b[1;32m    465\u001b[0m             \u001b[0mrequire_iso8601\u001b[0m\u001b[0;34m=\u001b[0m\u001b[0mrequire_iso8601\u001b[0m\u001b[0;34m,\u001b[0m\u001b[0;34m\u001b[0m\u001b[0;34m\u001b[0m\u001b[0m\n\u001b[0;32m--> 466\u001b[0;31m             \u001b[0mallow_object\u001b[0m\u001b[0;34m=\u001b[0m\u001b[0;32mTrue\u001b[0m\u001b[0;34m,\u001b[0m\u001b[0;34m\u001b[0m\u001b[0;34m\u001b[0m\u001b[0m\n\u001b[0m\u001b[1;32m    467\u001b[0m         )\n\u001b[1;32m    468\u001b[0m \u001b[0;34m\u001b[0m\u001b[0m\n",
            "\u001b[0;32m/usr/local/lib/python3.7/dist-packages/pandas/core/arrays/datetimes.py\u001b[0m in \u001b[0;36mobjects_to_datetime64ns\u001b[0;34m(data, dayfirst, yearfirst, utc, errors, require_iso8601, allow_object)\u001b[0m\n\u001b[1;32m   2062\u001b[0m             \u001b[0;32mreturn\u001b[0m \u001b[0mvalues\u001b[0m\u001b[0;34m.\u001b[0m\u001b[0mview\u001b[0m\u001b[0;34m(\u001b[0m\u001b[0;34m\"i8\"\u001b[0m\u001b[0;34m)\u001b[0m\u001b[0;34m,\u001b[0m \u001b[0mtz_parsed\u001b[0m\u001b[0;34m\u001b[0m\u001b[0;34m\u001b[0m\u001b[0m\n\u001b[1;32m   2063\u001b[0m         \u001b[0;32mexcept\u001b[0m \u001b[0;34m(\u001b[0m\u001b[0mValueError\u001b[0m\u001b[0;34m,\u001b[0m \u001b[0mTypeError\u001b[0m\u001b[0;34m)\u001b[0m\u001b[0;34m:\u001b[0m\u001b[0;34m\u001b[0m\u001b[0;34m\u001b[0m\u001b[0m\n\u001b[0;32m-> 2064\u001b[0;31m             \u001b[0;32mraise\u001b[0m \u001b[0me\u001b[0m\u001b[0;34m\u001b[0m\u001b[0;34m\u001b[0m\u001b[0m\n\u001b[0m\u001b[1;32m   2065\u001b[0m \u001b[0;34m\u001b[0m\u001b[0m\n\u001b[1;32m   2066\u001b[0m     \u001b[0;32mif\u001b[0m \u001b[0mtz_parsed\u001b[0m \u001b[0;32mis\u001b[0m \u001b[0;32mnot\u001b[0m \u001b[0;32mNone\u001b[0m\u001b[0;34m:\u001b[0m\u001b[0;34m\u001b[0m\u001b[0;34m\u001b[0m\u001b[0m\n",
            "\u001b[0;32m/usr/local/lib/python3.7/dist-packages/pandas/core/arrays/datetimes.py\u001b[0m in \u001b[0;36mobjects_to_datetime64ns\u001b[0;34m(data, dayfirst, yearfirst, utc, errors, require_iso8601, allow_object)\u001b[0m\n\u001b[1;32m   2053\u001b[0m             \u001b[0mdayfirst\u001b[0m\u001b[0;34m=\u001b[0m\u001b[0mdayfirst\u001b[0m\u001b[0;34m,\u001b[0m\u001b[0;34m\u001b[0m\u001b[0;34m\u001b[0m\u001b[0m\n\u001b[1;32m   2054\u001b[0m             \u001b[0myearfirst\u001b[0m\u001b[0;34m=\u001b[0m\u001b[0myearfirst\u001b[0m\u001b[0;34m,\u001b[0m\u001b[0;34m\u001b[0m\u001b[0;34m\u001b[0m\u001b[0m\n\u001b[0;32m-> 2055\u001b[0;31m             \u001b[0mrequire_iso8601\u001b[0m\u001b[0;34m=\u001b[0m\u001b[0mrequire_iso8601\u001b[0m\u001b[0;34m,\u001b[0m\u001b[0;34m\u001b[0m\u001b[0;34m\u001b[0m\u001b[0m\n\u001b[0m\u001b[1;32m   2056\u001b[0m         )\n\u001b[1;32m   2057\u001b[0m     \u001b[0;32mexcept\u001b[0m \u001b[0mValueError\u001b[0m \u001b[0;32mas\u001b[0m \u001b[0me\u001b[0m\u001b[0;34m:\u001b[0m\u001b[0;34m\u001b[0m\u001b[0;34m\u001b[0m\u001b[0m\n",
            "\u001b[0;32mpandas/_libs/tslib.pyx\u001b[0m in \u001b[0;36mpandas._libs.tslib.array_to_datetime\u001b[0;34m()\u001b[0m\n",
            "\u001b[0;32mpandas/_libs/tslib.pyx\u001b[0m in \u001b[0;36mpandas._libs.tslib.array_to_datetime\u001b[0;34m()\u001b[0m\n",
            "\u001b[0;32mpandas/_libs/tslib.pyx\u001b[0m in \u001b[0;36mpandas._libs.tslib.array_to_datetime_object\u001b[0;34m()\u001b[0m\n",
            "\u001b[0;32mpandas/_libs/tslib.pyx\u001b[0m in \u001b[0;36mpandas._libs.tslib.array_to_datetime_object\u001b[0;34m()\u001b[0m\n",
            "\u001b[0;32mpandas/_libs/tslibs/parsing.pyx\u001b[0m in \u001b[0;36mpandas._libs.tslibs.parsing.parse_datetime_string\u001b[0;34m()\u001b[0m\n",
            "\u001b[0;32m/usr/local/lib/python3.7/dist-packages/dateutil/parser/_parser.py\u001b[0m in \u001b[0;36mparse\u001b[0;34m(timestr, parserinfo, **kwargs)\u001b[0m\n\u001b[1;32m   1372\u001b[0m         \u001b[0;32mreturn\u001b[0m \u001b[0mparser\u001b[0m\u001b[0;34m(\u001b[0m\u001b[0mparserinfo\u001b[0m\u001b[0;34m)\u001b[0m\u001b[0;34m.\u001b[0m\u001b[0mparse\u001b[0m\u001b[0;34m(\u001b[0m\u001b[0mtimestr\u001b[0m\u001b[0;34m,\u001b[0m \u001b[0;34m**\u001b[0m\u001b[0mkwargs\u001b[0m\u001b[0;34m)\u001b[0m\u001b[0;34m\u001b[0m\u001b[0;34m\u001b[0m\u001b[0m\n\u001b[1;32m   1373\u001b[0m     \u001b[0;32melse\u001b[0m\u001b[0;34m:\u001b[0m\u001b[0;34m\u001b[0m\u001b[0;34m\u001b[0m\u001b[0m\n\u001b[0;32m-> 1374\u001b[0;31m         \u001b[0;32mreturn\u001b[0m \u001b[0mDEFAULTPARSER\u001b[0m\u001b[0;34m.\u001b[0m\u001b[0mparse\u001b[0m\u001b[0;34m(\u001b[0m\u001b[0mtimestr\u001b[0m\u001b[0;34m,\u001b[0m \u001b[0;34m**\u001b[0m\u001b[0mkwargs\u001b[0m\u001b[0;34m)\u001b[0m\u001b[0;34m\u001b[0m\u001b[0;34m\u001b[0m\u001b[0m\n\u001b[0m\u001b[1;32m   1375\u001b[0m \u001b[0;34m\u001b[0m\u001b[0m\n\u001b[1;32m   1376\u001b[0m \u001b[0;34m\u001b[0m\u001b[0m\n",
            "\u001b[0;32m/usr/local/lib/python3.7/dist-packages/dateutil/parser/_parser.py\u001b[0m in \u001b[0;36mparse\u001b[0;34m(self, timestr, default, ignoretz, tzinfos, **kwargs)\u001b[0m\n\u001b[1;32m    655\u001b[0m             \u001b[0mret\u001b[0m \u001b[0;34m=\u001b[0m \u001b[0mself\u001b[0m\u001b[0;34m.\u001b[0m\u001b[0m_build_naive\u001b[0m\u001b[0;34m(\u001b[0m\u001b[0mres\u001b[0m\u001b[0;34m,\u001b[0m \u001b[0mdefault\u001b[0m\u001b[0;34m)\u001b[0m\u001b[0;34m\u001b[0m\u001b[0;34m\u001b[0m\u001b[0m\n\u001b[1;32m    656\u001b[0m         \u001b[0;32mexcept\u001b[0m \u001b[0mValueError\u001b[0m \u001b[0;32mas\u001b[0m \u001b[0me\u001b[0m\u001b[0;34m:\u001b[0m\u001b[0;34m\u001b[0m\u001b[0;34m\u001b[0m\u001b[0m\n\u001b[0;32m--> 657\u001b[0;31m             \u001b[0msix\u001b[0m\u001b[0;34m.\u001b[0m\u001b[0mraise_from\u001b[0m\u001b[0;34m(\u001b[0m\u001b[0mParserError\u001b[0m\u001b[0;34m(\u001b[0m\u001b[0me\u001b[0m\u001b[0;34m.\u001b[0m\u001b[0margs\u001b[0m\u001b[0;34m[\u001b[0m\u001b[0;36m0\u001b[0m\u001b[0;34m]\u001b[0m \u001b[0;34m+\u001b[0m \u001b[0;34m\": %s\"\u001b[0m\u001b[0;34m,\u001b[0m \u001b[0mtimestr\u001b[0m\u001b[0;34m)\u001b[0m\u001b[0;34m,\u001b[0m \u001b[0me\u001b[0m\u001b[0;34m)\u001b[0m\u001b[0;34m\u001b[0m\u001b[0;34m\u001b[0m\u001b[0m\n\u001b[0m\u001b[1;32m    658\u001b[0m \u001b[0;34m\u001b[0m\u001b[0m\n\u001b[1;32m    659\u001b[0m         \u001b[0;32mif\u001b[0m \u001b[0;32mnot\u001b[0m \u001b[0mignoretz\u001b[0m\u001b[0;34m:\u001b[0m\u001b[0;34m\u001b[0m\u001b[0;34m\u001b[0m\u001b[0m\n",
            "\u001b[0;32m/usr/local/lib/python3.7/dist-packages/six.py\u001b[0m in \u001b[0;36mraise_from\u001b[0;34m(value, from_value)\u001b[0m\n",
            "\u001b[0;31mParserError\u001b[0m: day is out of range for month: 2020.12.32"
          ]
        }
      ]
    },
    {
      "cell_type": "code",
      "metadata": {
        "colab": {
          "background_save": true
        },
        "id": "W-3v8KvoBBQV"
      },
      "source": [
        "#날짜 데이터 전처리\n",
        "\n",
        "df=df.replace({'주문날짜': '2020.12.32'},{'주문날짜': '2020.12.31'})\n",
        "df=df.replace({'주문날짜' : '2020.09:02'},{'주문날짜':'2020.09.02'})"
      ],
      "execution_count": null,
      "outputs": []
    },
    {
      "cell_type": "code",
      "metadata": {
        "colab": {
          "background_save": true
        },
        "id": "DZWSJnVyBBZz"
      },
      "source": [
        "df['new_Date'] = pd.to_datetime(df['주문날짜'])\n",
        "print(df.head())\n",
        "print('\\n')\n",
        "print(df.info())"
      ],
      "execution_count": null,
      "outputs": []
    },
    {
      "cell_type": "code",
      "metadata": {
        "colab": {
          "background_save": true
        },
        "id": "dIF_8LOKBBc_"
      },
      "source": [
        "df.drop('주문날짜', axis = 1, inplace=True)"
      ],
      "execution_count": null,
      "outputs": []
    },
    {
      "cell_type": "code",
      "metadata": {
        "colab": {
          "background_save": true
        },
        "id": "xHnwZ38rztzm"
      },
      "source": [
        "df['Year'] = df['new_Date'].dt.year\n",
        "df['Month'] = df['new_Date'].dt.month\n",
        "df['Day'] = df['new_Date'].dt.day\n",
        "df.head()"
      ],
      "execution_count": null,
      "outputs": []
    },
    {
      "cell_type": "code",
      "metadata": {
        "colab": {
          "background_save": true
        },
        "id": "hlRK6Ps5zt45"
      },
      "source": [
        "df['Date_m'] = df['new_Date'].dt.to_period(freq = 'M')   # 연월까지\n",
        "df.head()"
      ],
      "execution_count": null,
      "outputs": []
    },
    {
      "cell_type": "code",
      "metadata": {
        "colab": {
          "background_save": true
        },
        "id": "SAxtPqbW9ibZ"
      },
      "source": [
        "mask = df['new_Date'] < \"2020-12-31\"\n",
        "df_under2021 = df.loc[mask, :]\n",
        "print(df_under2021.head())"
      ],
      "execution_count": null,
      "outputs": []
    },
    {
      "cell_type": "code",
      "metadata": {
        "colab": {
          "background_save": true
        },
        "id": "292H2Ce12iZI"
      },
      "source": [
        "plt.subplots(figsize=(25, 5))\n",
        "date_Graph = sns.lineplot(data =df_under2021, x = \"new_Date\", y= \"주문 금액\\n (총 결제금액x)\",ci=None)"
      ],
      "execution_count": null,
      "outputs": []
    },
    {
      "cell_type": "code",
      "metadata": {
        "colab": {
          "background_save": true
        },
        "id": "Ha_PJgvczt7q"
      },
      "source": [
        "plt.subplots(figsize=(25, 5))\n",
        "\n",
        "date_Graph = sns.lineplot(data =df_under2021, x = \"new_Date\", y= \"주문 금액\\n (총 결제금액x)\",ci=None,hue='함께 먹은 사람\\n (연인,친구, 가족, 혼자)')"
      ],
      "execution_count": null,
      "outputs": []
    },
    {
      "cell_type": "markdown",
      "metadata": {
        "id": "e36fV4JT7XtI"
      },
      "source": [
        "#분포 Check"
      ]
    },
    {
      "cell_type": "code",
      "metadata": {
        "colab": {
          "background_save": true
        },
        "id": "NRKOEWIG2ieB"
      },
      "source": [
        "plt.subplots(figsize=(10, 5))\n",
        "sns.boxplot(x=\"Month\", y=\"주문 금액\\n (총 결제금액x)\", data=df_under2021, hue = \"함께 먹은 사람\\n (연인,친구, 가족, 혼자)\")"
      ],
      "execution_count": null,
      "outputs": []
    },
    {
      "cell_type": "code",
      "metadata": {
        "colab": {
          "background_save": true
        },
        "id": "QqH8nHxb7emu"
      },
      "source": [
        "plt.subplots(figsize=(20, 7))\n",
        "sns.boxplot(x=\"Month\", y=\"주문 금액\\n (총 결제금액x)\", data=df_under2021, hue = \"결제방법\")"
      ],
      "execution_count": null,
      "outputs": []
    },
    {
      "cell_type": "code",
      "metadata": {
        "colab": {
          "background_save": true
        },
        "id": "cCXZ-wG27epu"
      },
      "source": [
        "plt.subplots(figsize=(10, 7))\n",
        "sns.boxplot(x=\"Year\", y=\"주문 금액\\n (총 결제금액x)\", data=df_under2021, hue = \"음식 카테고리\")"
      ],
      "execution_count": null,
      "outputs": []
    },
    {
      "cell_type": "code",
      "metadata": {
        "colab": {
          "background_save": true
        },
        "id": "eSUNWlPI7esi"
      },
      "source": [
        ""
      ],
      "execution_count": null,
      "outputs": []
    },
    {
      "cell_type": "code",
      "metadata": {
        "colab": {
          "background_save": true
        },
        "id": "AiSNpsqP7eu1"
      },
      "source": [
        ""
      ],
      "execution_count": null,
      "outputs": []
    },
    {
      "cell_type": "code",
      "metadata": {
        "colab": {
          "background_save": true
        },
        "id": "znlpKIPt7ex3"
      },
      "source": [
        ""
      ],
      "execution_count": null,
      "outputs": []
    },
    {
      "cell_type": "code",
      "metadata": {
        "colab": {
          "background_save": true
        },
        "id": "AtdPC6Pd7ezy"
      },
      "source": [
        ""
      ],
      "execution_count": null,
      "outputs": []
    }
  ]
}